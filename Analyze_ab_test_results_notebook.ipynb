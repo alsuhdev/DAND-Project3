{
 "cells": [
  {
   "cell_type": "markdown",
   "metadata": {},
   "source": [
    "## Analyze A/B Test Results\n",
    "\n",
    "You may either submit your notebook through the workspace here, or you may work from your local machine and submit through the next page.  Either way assure that your code passes the project [RUBRIC](https://review.udacity.com/#!/projects/37e27304-ad47-4eb0-a1ab-8c12f60e43d0/rubric).  **Please save regularly.**\n",
    "\n",
    "This project will assure you have mastered the subjects covered in the statistics lessons.  The hope is to have this project be as comprehensive of these topics as possible.  Good luck!\n",
    "\n",
    "## Table of Contents\n",
    "- [Introduction](#intro)\n",
    "- [Part I - Probability](#probability)\n",
    "- [Part II - A/B Test](#ab_test)\n",
    "- [Part III - Regression](#regression)\n",
    "\n",
    "\n",
    "<a id='intro'></a>\n",
    "### Introduction\n",
    "\n",
    "A/B tests are very commonly performed by data analysts and data scientists.  It is important that you get some practice working with the difficulties of these \n",
    "\n",
    "For this project, you will be working to understand the results of an A/B test run by an e-commerce website.  Your goal is to work through this notebook to help the company understand if they should implement the new page, keep the old page, or perhaps run the experiment longer to make their decision.\n",
    "\n",
    "**As you work through this notebook, follow along in the classroom and answer the corresponding quiz questions associated with each question.** The labels for each classroom concept are provided for each question.  This will assure you are on the right track as you work through the project, and you can feel more confident in your final submission meeting the criteria.  As a final check, assure you meet all the criteria on the [RUBRIC](https://review.udacity.com/#!/projects/37e27304-ad47-4eb0-a1ab-8c12f60e43d0/rubric).\n",
    "\n",
    "<a id='probability'></a>\n",
    "#### Part I - Probability\n",
    "\n",
    "To get started, let's import our libraries."
   ]
  },
  {
   "cell_type": "code",
   "execution_count": 1,
   "metadata": {},
   "outputs": [],
   "source": [
    "import pandas as pd\n",
    "import numpy as np\n",
    "import random\n",
    "import matplotlib.pyplot as plt\n",
    "%matplotlib inline\n",
    "#We are setting the seed to assure you get the same answers on quizzes as we set up\n",
    "random.seed(42)"
   ]
  },
  {
   "cell_type": "markdown",
   "metadata": {},
   "source": [
    "`1.` Now, read in the `ab_data.csv` data. Store it in `df`.  **Use your dataframe to answer the questions in Quiz 1 of the classroom.**\n",
    "\n",
    "a. Read in the dataset and take a look at the top few rows here:"
   ]
  },
  {
   "cell_type": "code",
   "execution_count": 2,
   "metadata": {},
   "outputs": [
    {
     "data": {
      "text/html": [
       "<div>\n",
       "<style scoped>\n",
       "    .dataframe tbody tr th:only-of-type {\n",
       "        vertical-align: middle;\n",
       "    }\n",
       "\n",
       "    .dataframe tbody tr th {\n",
       "        vertical-align: top;\n",
       "    }\n",
       "\n",
       "    .dataframe thead th {\n",
       "        text-align: right;\n",
       "    }\n",
       "</style>\n",
       "<table border=\"1\" class=\"dataframe\">\n",
       "  <thead>\n",
       "    <tr style=\"text-align: right;\">\n",
       "      <th></th>\n",
       "      <th>user_id</th>\n",
       "      <th>timestamp</th>\n",
       "      <th>group</th>\n",
       "      <th>landing_page</th>\n",
       "      <th>converted</th>\n",
       "    </tr>\n",
       "  </thead>\n",
       "  <tbody>\n",
       "    <tr>\n",
       "      <th>0</th>\n",
       "      <td>851104</td>\n",
       "      <td>2017-01-21 22:11:48.556739</td>\n",
       "      <td>control</td>\n",
       "      <td>old_page</td>\n",
       "      <td>0</td>\n",
       "    </tr>\n",
       "    <tr>\n",
       "      <th>1</th>\n",
       "      <td>804228</td>\n",
       "      <td>2017-01-12 08:01:45.159739</td>\n",
       "      <td>control</td>\n",
       "      <td>old_page</td>\n",
       "      <td>0</td>\n",
       "    </tr>\n",
       "    <tr>\n",
       "      <th>2</th>\n",
       "      <td>661590</td>\n",
       "      <td>2017-01-11 16:55:06.154213</td>\n",
       "      <td>treatment</td>\n",
       "      <td>new_page</td>\n",
       "      <td>0</td>\n",
       "    </tr>\n",
       "    <tr>\n",
       "      <th>3</th>\n",
       "      <td>853541</td>\n",
       "      <td>2017-01-08 18:28:03.143765</td>\n",
       "      <td>treatment</td>\n",
       "      <td>new_page</td>\n",
       "      <td>0</td>\n",
       "    </tr>\n",
       "    <tr>\n",
       "      <th>4</th>\n",
       "      <td>864975</td>\n",
       "      <td>2017-01-21 01:52:26.210827</td>\n",
       "      <td>control</td>\n",
       "      <td>old_page</td>\n",
       "      <td>1</td>\n",
       "    </tr>\n",
       "  </tbody>\n",
       "</table>\n",
       "</div>"
      ],
      "text/plain": [
       "   user_id                   timestamp      group landing_page  converted\n",
       "0   851104  2017-01-21 22:11:48.556739    control     old_page          0\n",
       "1   804228  2017-01-12 08:01:45.159739    control     old_page          0\n",
       "2   661590  2017-01-11 16:55:06.154213  treatment     new_page          0\n",
       "3   853541  2017-01-08 18:28:03.143765  treatment     new_page          0\n",
       "4   864975  2017-01-21 01:52:26.210827    control     old_page          1"
      ]
     },
     "execution_count": 2,
     "metadata": {},
     "output_type": "execute_result"
    }
   ],
   "source": [
    "df = pd.read_csv('ab_data.csv')\n",
    "df.head()"
   ]
  },
  {
   "cell_type": "markdown",
   "metadata": {},
   "source": [
    "b. Use the cell below to find the number of rows in the dataset."
   ]
  },
  {
   "cell_type": "code",
   "execution_count": 3,
   "metadata": {},
   "outputs": [
    {
     "data": {
      "text/plain": [
       "294478"
      ]
     },
     "execution_count": 3,
     "metadata": {},
     "output_type": "execute_result"
    }
   ],
   "source": [
    "df.shape[0]"
   ]
  },
  {
   "cell_type": "markdown",
   "metadata": {},
   "source": [
    "c. The number of unique users in the dataset."
   ]
  },
  {
   "cell_type": "code",
   "execution_count": 4,
   "metadata": {},
   "outputs": [
    {
     "data": {
      "text/plain": [
       "290584"
      ]
     },
     "execution_count": 4,
     "metadata": {},
     "output_type": "execute_result"
    }
   ],
   "source": [
    "len(df['user_id'].unique())"
   ]
  },
  {
   "cell_type": "markdown",
   "metadata": {
    "collapsed": true
   },
   "source": [
    "d. The proportion of users converted."
   ]
  },
  {
   "cell_type": "code",
   "execution_count": 5,
   "metadata": {},
   "outputs": [
    {
     "data": {
      "text/plain": [
       "0.11965919355605512"
      ]
     },
     "execution_count": 5,
     "metadata": {},
     "output_type": "execute_result"
    }
   ],
   "source": [
    "df.converted.mean()"
   ]
  },
  {
   "cell_type": "markdown",
   "metadata": {
    "collapsed": true
   },
   "source": [
    "e. The number of times the `new_page` and `treatment` don't match."
   ]
  },
  {
   "cell_type": "code",
   "execution_count": 6,
   "metadata": {},
   "outputs": [
    {
     "data": {
      "text/plain": [
       "3893"
      ]
     },
     "execution_count": 6,
     "metadata": {},
     "output_type": "execute_result"
    }
   ],
   "source": [
    "df.query('landing_page != \"new_page\" & group == \"treatment\"').shape[0]+ df.query('landing_page == \"new_page\" & group != \"treatment\"').shape[0]"
   ]
  },
  {
   "cell_type": "markdown",
   "metadata": {},
   "source": [
    "f. Do any of the rows have missing values?"
   ]
  },
  {
   "cell_type": "code",
   "execution_count": 7,
   "metadata": {},
   "outputs": [
    {
     "name": "stdout",
     "output_type": "stream",
     "text": [
      "<class 'pandas.core.frame.DataFrame'>\n",
      "RangeIndex: 294478 entries, 0 to 294477\n",
      "Data columns (total 5 columns):\n",
      "user_id         294478 non-null int64\n",
      "timestamp       294478 non-null object\n",
      "group           294478 non-null object\n",
      "landing_page    294478 non-null object\n",
      "converted       294478 non-null int64\n",
      "dtypes: int64(2), object(3)\n",
      "memory usage: 11.2+ MB\n"
     ]
    }
   ],
   "source": [
    "df.info()"
   ]
  },
  {
   "cell_type": "markdown",
   "metadata": {},
   "source": [
    "`2.` For the rows where **treatment** does not match with **new_page** or **control** does not match with **old_page**, we cannot be sure if this row truly received the new or old page.  Use **Quiz 2** in the classroom to figure out how we should handle these rows.  \n",
    "\n",
    "a. Now use the answer to the quiz to create a new dataset that meets the specifications from the quiz.  Store your new dataframe in **df2**."
   ]
  },
  {
   "cell_type": "code",
   "execution_count": 8,
   "metadata": {},
   "outputs": [
    {
     "data": {
      "text/html": [
       "<div>\n",
       "<style scoped>\n",
       "    .dataframe tbody tr th:only-of-type {\n",
       "        vertical-align: middle;\n",
       "    }\n",
       "\n",
       "    .dataframe tbody tr th {\n",
       "        vertical-align: top;\n",
       "    }\n",
       "\n",
       "    .dataframe thead th {\n",
       "        text-align: right;\n",
       "    }\n",
       "</style>\n",
       "<table border=\"1\" class=\"dataframe\">\n",
       "  <thead>\n",
       "    <tr style=\"text-align: right;\">\n",
       "      <th></th>\n",
       "      <th>user_id</th>\n",
       "      <th>timestamp</th>\n",
       "      <th>group</th>\n",
       "      <th>landing_page</th>\n",
       "      <th>converted</th>\n",
       "    </tr>\n",
       "  </thead>\n",
       "  <tbody>\n",
       "    <tr>\n",
       "      <th>0</th>\n",
       "      <td>851104</td>\n",
       "      <td>2017-01-21 22:11:48.556739</td>\n",
       "      <td>control</td>\n",
       "      <td>old_page</td>\n",
       "      <td>0</td>\n",
       "    </tr>\n",
       "    <tr>\n",
       "      <th>1</th>\n",
       "      <td>804228</td>\n",
       "      <td>2017-01-12 08:01:45.159739</td>\n",
       "      <td>control</td>\n",
       "      <td>old_page</td>\n",
       "      <td>0</td>\n",
       "    </tr>\n",
       "    <tr>\n",
       "      <th>2</th>\n",
       "      <td>661590</td>\n",
       "      <td>2017-01-11 16:55:06.154213</td>\n",
       "      <td>treatment</td>\n",
       "      <td>new_page</td>\n",
       "      <td>0</td>\n",
       "    </tr>\n",
       "    <tr>\n",
       "      <th>3</th>\n",
       "      <td>853541</td>\n",
       "      <td>2017-01-08 18:28:03.143765</td>\n",
       "      <td>treatment</td>\n",
       "      <td>new_page</td>\n",
       "      <td>0</td>\n",
       "    </tr>\n",
       "    <tr>\n",
       "      <th>4</th>\n",
       "      <td>864975</td>\n",
       "      <td>2017-01-21 01:52:26.210827</td>\n",
       "      <td>control</td>\n",
       "      <td>old_page</td>\n",
       "      <td>1</td>\n",
       "    </tr>\n",
       "  </tbody>\n",
       "</table>\n",
       "</div>"
      ],
      "text/plain": [
       "   user_id                   timestamp      group landing_page  converted\n",
       "0   851104  2017-01-21 22:11:48.556739    control     old_page          0\n",
       "1   804228  2017-01-12 08:01:45.159739    control     old_page          0\n",
       "2   661590  2017-01-11 16:55:06.154213  treatment     new_page          0\n",
       "3   853541  2017-01-08 18:28:03.143765  treatment     new_page          0\n",
       "4   864975  2017-01-21 01:52:26.210827    control     old_page          1"
      ]
     },
     "execution_count": 8,
     "metadata": {},
     "output_type": "execute_result"
    }
   ],
   "source": [
    "df2 = df.query('(group == \"control\" & landing_page != \"new_page\") | (group != \"control\" & landing_page == \"new_page\")')\n",
    "df2.head()"
   ]
  },
  {
   "cell_type": "code",
   "execution_count": 9,
   "metadata": {},
   "outputs": [
    {
     "data": {
      "text/plain": [
       "(290585, 5)"
      ]
     },
     "execution_count": 9,
     "metadata": {},
     "output_type": "execute_result"
    }
   ],
   "source": [
    "df.query('(group == \"control\" & landing_page != \"new_page\") | (group != \"control\" & landing_page == \"new_page\")').shape\n"
   ]
  },
  {
   "cell_type": "code",
   "execution_count": 10,
   "metadata": {},
   "outputs": [
    {
     "data": {
      "text/plain": [
       "0"
      ]
     },
     "execution_count": 10,
     "metadata": {},
     "output_type": "execute_result"
    }
   ],
   "source": [
    "# Double Check all of the correct rows were removed - this should be 0\n",
    "df2[((df2['group'] == 'treatment') == (df2['landing_page'] == 'new_page')) == False].shape[0]\n",
    "\n",
    "\n"
   ]
  },
  {
   "cell_type": "markdown",
   "metadata": {},
   "source": [
    "`3.` Use **df2** and the cells below to answer questions for **Quiz3** in the classroom."
   ]
  },
  {
   "cell_type": "markdown",
   "metadata": {},
   "source": [
    "a. How many unique **user_id**s are in **df2**?"
   ]
  },
  {
   "cell_type": "code",
   "execution_count": 11,
   "metadata": {},
   "outputs": [
    {
     "data": {
      "text/plain": [
       "290584"
      ]
     },
     "execution_count": 11,
     "metadata": {},
     "output_type": "execute_result"
    }
   ],
   "source": [
    "len(df2.user_id.unique())"
   ]
  },
  {
   "cell_type": "markdown",
   "metadata": {
    "collapsed": true
   },
   "source": [
    "b. There is one **user_id** repeated in **df2**.  What is it?"
   ]
  },
  {
   "cell_type": "code",
   "execution_count": 12,
   "metadata": {},
   "outputs": [
    {
     "data": {
      "text/plain": [
       "2893    773192\n",
       "Name: user_id, dtype: int64"
      ]
     },
     "execution_count": 12,
     "metadata": {},
     "output_type": "execute_result"
    }
   ],
   "source": [
    "df2[df2.user_id.duplicated()].user_id"
   ]
  },
  {
   "cell_type": "markdown",
   "metadata": {},
   "source": [
    "c. What is the row information for the repeat **user_id**? "
   ]
  },
  {
   "cell_type": "code",
   "execution_count": 13,
   "metadata": {},
   "outputs": [
    {
     "data": {
      "text/html": [
       "<div>\n",
       "<style scoped>\n",
       "    .dataframe tbody tr th:only-of-type {\n",
       "        vertical-align: middle;\n",
       "    }\n",
       "\n",
       "    .dataframe tbody tr th {\n",
       "        vertical-align: top;\n",
       "    }\n",
       "\n",
       "    .dataframe thead th {\n",
       "        text-align: right;\n",
       "    }\n",
       "</style>\n",
       "<table border=\"1\" class=\"dataframe\">\n",
       "  <thead>\n",
       "    <tr style=\"text-align: right;\">\n",
       "      <th></th>\n",
       "      <th>user_id</th>\n",
       "      <th>timestamp</th>\n",
       "      <th>group</th>\n",
       "      <th>landing_page</th>\n",
       "      <th>converted</th>\n",
       "    </tr>\n",
       "  </thead>\n",
       "  <tbody>\n",
       "    <tr>\n",
       "      <th>2893</th>\n",
       "      <td>773192</td>\n",
       "      <td>2017-01-14 02:55:59.590927</td>\n",
       "      <td>treatment</td>\n",
       "      <td>new_page</td>\n",
       "      <td>0</td>\n",
       "    </tr>\n",
       "  </tbody>\n",
       "</table>\n",
       "</div>"
      ],
      "text/plain": [
       "      user_id                   timestamp      group landing_page  converted\n",
       "2893   773192  2017-01-14 02:55:59.590927  treatment     new_page          0"
      ]
     },
     "execution_count": 13,
     "metadata": {},
     "output_type": "execute_result"
    }
   ],
   "source": [
    "df2[df2.user_id.duplicated()]"
   ]
  },
  {
   "cell_type": "markdown",
   "metadata": {},
   "source": [
    "d. Remove **one** of the rows with a duplicate **user_id**, but keep your dataframe as **df2**."
   ]
  },
  {
   "cell_type": "code",
   "execution_count": 14,
   "metadata": {},
   "outputs": [
    {
     "name": "stderr",
     "output_type": "stream",
     "text": [
      "/opt/conda/lib/python3.6/site-packages/pandas/core/frame.py:3697: SettingWithCopyWarning: \n",
      "A value is trying to be set on a copy of a slice from a DataFrame\n",
      "\n",
      "See the caveats in the documentation: http://pandas.pydata.org/pandas-docs/stable/indexing.html#indexing-view-versus-copy\n",
      "  errors=errors)\n"
     ]
    }
   ],
   "source": [
    "df2.drop(labels=2893,inplace=True)"
   ]
  },
  {
   "cell_type": "code",
   "execution_count": 15,
   "metadata": {},
   "outputs": [
    {
     "data": {
      "text/html": [
       "<div>\n",
       "<style scoped>\n",
       "    .dataframe tbody tr th:only-of-type {\n",
       "        vertical-align: middle;\n",
       "    }\n",
       "\n",
       "    .dataframe tbody tr th {\n",
       "        vertical-align: top;\n",
       "    }\n",
       "\n",
       "    .dataframe thead th {\n",
       "        text-align: right;\n",
       "    }\n",
       "</style>\n",
       "<table border=\"1\" class=\"dataframe\">\n",
       "  <thead>\n",
       "    <tr style=\"text-align: right;\">\n",
       "      <th></th>\n",
       "      <th>user_id</th>\n",
       "      <th>timestamp</th>\n",
       "      <th>group</th>\n",
       "      <th>landing_page</th>\n",
       "      <th>converted</th>\n",
       "    </tr>\n",
       "  </thead>\n",
       "  <tbody>\n",
       "  </tbody>\n",
       "</table>\n",
       "</div>"
      ],
      "text/plain": [
       "Empty DataFrame\n",
       "Columns: [user_id, timestamp, group, landing_page, converted]\n",
       "Index: []"
      ]
     },
     "execution_count": 15,
     "metadata": {},
     "output_type": "execute_result"
    }
   ],
   "source": [
    "df2[df2.user_id.duplicated()]"
   ]
  },
  {
   "cell_type": "markdown",
   "metadata": {},
   "source": [
    "`4.` Use **df2** in the cells below to answer the quiz questions related to **Quiz 4** in the classroom.\n",
    "\n",
    "a. What is the probability of an individual converting regardless of the page they receive?"
   ]
  },
  {
   "cell_type": "code",
   "execution_count": 16,
   "metadata": {},
   "outputs": [
    {
     "data": {
      "text/plain": [
       "0.11959708724499628"
      ]
     },
     "execution_count": 16,
     "metadata": {},
     "output_type": "execute_result"
    }
   ],
   "source": [
    "df2['converted'].mean()"
   ]
  },
  {
   "cell_type": "markdown",
   "metadata": {},
   "source": [
    "b. Given that an individual was in the `control` group, what is the probability they converted?"
   ]
  },
  {
   "cell_type": "code",
   "execution_count": 17,
   "metadata": {},
   "outputs": [
    {
     "data": {
      "text/plain": [
       "0.1203863045004612"
      ]
     },
     "execution_count": 17,
     "metadata": {},
     "output_type": "execute_result"
    }
   ],
   "source": [
    "df2[df2['group'] == \"control\"]['converted'].mean()"
   ]
  },
  {
   "cell_type": "markdown",
   "metadata": {},
   "source": [
    "c. Given that an individual was in the `treatment` group, what is the probability they converted?"
   ]
  },
  {
   "cell_type": "code",
   "execution_count": 18,
   "metadata": {},
   "outputs": [
    {
     "data": {
      "text/plain": [
       "0.11880806551510564"
      ]
     },
     "execution_count": 18,
     "metadata": {},
     "output_type": "execute_result"
    }
   ],
   "source": [
    "df2[df2['group'] == \"treatment\"]['converted'].mean()"
   ]
  },
  {
   "cell_type": "markdown",
   "metadata": {},
   "source": [
    "d. What is the probability that an individual received the new page?"
   ]
  },
  {
   "cell_type": "code",
   "execution_count": 19,
   "metadata": {},
   "outputs": [
    {
     "data": {
      "text/plain": [
       "0.5000619442226688"
      ]
     },
     "execution_count": 19,
     "metadata": {},
     "output_type": "execute_result"
    }
   ],
   "source": [
    "df2[df2['landing_page'] == \"new_page\"].shape[0]/df2.shape[0]"
   ]
  },
  {
   "cell_type": "markdown",
   "metadata": {},
   "source": [
    "e. Consider your results from parts (a) through (d) above, and explain below whether you think there is sufficient evidence to conclude that the new treatment page leads to more conversions."
   ]
  },
  {
   "cell_type": "markdown",
   "metadata": {},
   "source": [
    "**Considering that the number of users of both groups are almost the same, there is no significant eveidence that shows that the new page leads to more conversions. On the contrary, the conversion rate slighly (0.15%) decreases for the treatment**\n"
   ]
  },
  {
   "cell_type": "markdown",
   "metadata": {},
   "source": [
    "<a id='ab_test'></a>\n",
    "### Part II - A/B Test\n",
    "\n",
    "Notice that because of the time stamp associated with each event, you could technically run a hypothesis test continuously as each observation was observed.  \n",
    "\n",
    "However, then the hard question is do you stop as soon as one page is considered significantly better than another or does it need to happen consistently for a certain amount of time?  How long do you run to render a decision that neither page is better than another?  \n",
    "\n",
    "These questions are the difficult parts associated with A/B tests in general.  \n",
    "\n",
    "\n",
    "`1.` For now, consider you need to make the decision just based on all the data provided.  If you want to assume that the old page is better unless the new page proves to be definitely better at a Type I error rate of 5%, what should your null and alternative hypotheses be?  You can state your hypothesis in terms of words or in terms of **$p_{old}$** and **$p_{new}$**, which are the converted rates for the old and new pages."
   ]
  },
  {
   "cell_type": "markdown",
   "metadata": {},
   "source": [
    "**Ho:** Pnew - Pold <= 0\n",
    "\n",
    "**H1:** Pnew - Pold > 0\n"
   ]
  },
  {
   "cell_type": "markdown",
   "metadata": {},
   "source": [
    "`2.` Assume under the null hypothesis, $p_{new}$ and $p_{old}$ both have \"true\" success rates equal to the **converted** success rate regardless of page - that is $p_{new}$ and $p_{old}$ are equal. Furthermore, assume they are equal to the **converted** rate in **ab_data.csv** regardless of the page. <br><br>\n",
    "\n",
    "Use a sample size for each page equal to the ones in **ab_data.csv**.  <br><br>\n",
    "\n",
    "Perform the sampling distribution for the difference in **converted** between the two pages over 10,000 iterations of calculating an estimate from the null.  <br><br>\n",
    "\n",
    "Use the cells below to provide the necessary parts of this simulation.  If this doesn't make complete sense right now, don't worry - you are going to work through the problems below to complete this problem.  You can use **Quiz 5** in the classroom to make sure you are on the right track.<br><br>"
   ]
  },
  {
   "cell_type": "markdown",
   "metadata": {},
   "source": [
    "a. What is the **conversion rate** for $p_{new}$ under the null? "
   ]
  },
  {
   "cell_type": "code",
   "execution_count": 20,
   "metadata": {},
   "outputs": [
    {
     "data": {
      "text/plain": [
       "0.11959708724499628"
      ]
     },
     "execution_count": 20,
     "metadata": {},
     "output_type": "execute_result"
    }
   ],
   "source": [
    "df2['converted'].mean()"
   ]
  },
  {
   "cell_type": "markdown",
   "metadata": {},
   "source": [
    "b. What is the **conversion rate** for $p_{old}$ under the null? <br><br>"
   ]
  },
  {
   "cell_type": "code",
   "execution_count": 21,
   "metadata": {},
   "outputs": [
    {
     "data": {
      "text/plain": [
       "0.11959708724499628"
      ]
     },
     "execution_count": 21,
     "metadata": {},
     "output_type": "execute_result"
    }
   ],
   "source": [
    "df2['converted'].mean()"
   ]
  },
  {
   "cell_type": "markdown",
   "metadata": {},
   "source": [
    "c. What is $n_{new}$, the number of individuals in the treatment group?"
   ]
  },
  {
   "cell_type": "code",
   "execution_count": 22,
   "metadata": {},
   "outputs": [
    {
     "data": {
      "text/plain": [
       "145310"
      ]
     },
     "execution_count": 22,
     "metadata": {},
     "output_type": "execute_result"
    }
   ],
   "source": [
    "n_new = df2[df2['landing_page'] == \"new_page\"].shape[0]\n",
    "n_new"
   ]
  },
  {
   "cell_type": "markdown",
   "metadata": {},
   "source": [
    "d. What is $n_{old}$, the number of individuals in the control group?"
   ]
  },
  {
   "cell_type": "code",
   "execution_count": 23,
   "metadata": {},
   "outputs": [
    {
     "data": {
      "text/plain": [
       "145274"
      ]
     },
     "execution_count": 23,
     "metadata": {},
     "output_type": "execute_result"
    }
   ],
   "source": [
    "n_old = df2[df2['landing_page'] == \"old_page\"].shape[0]\n",
    "n_old"
   ]
  },
  {
   "cell_type": "markdown",
   "metadata": {},
   "source": [
    "e. Simulate $n_{new}$ transactions with a conversion rate of $p_{new}$ under the null.  Store these $n_{new}$ 1's and 0's in **new_page_converted**."
   ]
  },
  {
   "cell_type": "code",
   "execution_count": 24,
   "metadata": {},
   "outputs": [
    {
     "data": {
      "text/plain": [
       "array([0, 0, 0, ..., 0, 1, 0])"
      ]
     },
     "execution_count": 24,
     "metadata": {},
     "output_type": "execute_result"
    }
   ],
   "source": [
    "new_page_converted = np.random.binomial(1, df2['converted'].mean(), n_new)\n",
    "new_page_converted"
   ]
  },
  {
   "cell_type": "markdown",
   "metadata": {},
   "source": [
    "f. Simulate $n_{old}$ transactions with a conversion rate of $p_{old}$ under the null.  Store these $n_{old}$ 1's and 0's in **old_page_converted**."
   ]
  },
  {
   "cell_type": "code",
   "execution_count": 25,
   "metadata": {},
   "outputs": [
    {
     "data": {
      "text/plain": [
       "array([1, 0, 0, ..., 0, 0, 0])"
      ]
     },
     "execution_count": 25,
     "metadata": {},
     "output_type": "execute_result"
    }
   ],
   "source": [
    "old_page_converted = np.random.binomial(1, df2['converted'].mean(), n_old)\n",
    "old_page_converted"
   ]
  },
  {
   "cell_type": "markdown",
   "metadata": {},
   "source": [
    "g. Find $p_{new}$ - $p_{old}$ for your simulated values from part (e) and (f)."
   ]
  },
  {
   "cell_type": "code",
   "execution_count": 26,
   "metadata": {},
   "outputs": [
    {
     "data": {
      "text/plain": [
       "0.0011884546356298875"
      ]
     },
     "execution_count": 26,
     "metadata": {},
     "output_type": "execute_result"
    }
   ],
   "source": [
    "new_page_converted.mean() - old_page_converted.mean()"
   ]
  },
  {
   "cell_type": "markdown",
   "metadata": {},
   "source": [
    "h. Create 10,000 $p_{new}$ - $p_{old}$ values using the same simulation process you used in parts (a) through (g) above. Store all 10,000 values in a NumPy array called **p_diffs**."
   ]
  },
  {
   "cell_type": "code",
   "execution_count": 27,
   "metadata": {},
   "outputs": [
    {
     "data": {
      "text/plain": [
       "[-0.00075924900374566007,\n",
       " -0.00053204088401374861,\n",
       " 0.0011682047654292815,\n",
       " -0.0019978913133269494,\n",
       " 0.00018387158791356717,\n",
       " -0.00040821041941928315,\n",
       " 0.00053472087595873852,\n",
       " 0.0010508280913145984,\n",
       " -0.0010139486659769548,\n",
       " -0.0013852405312477084,\n",
       " 0.0018840080935548231,\n",
       " -0.00046307412838486606,\n",
       " 0.00012874866241878447,\n",
       " 0.0023721513783942771,\n",
       " 0.00053462878587599849,\n",
       " -0.0003119516498036462,\n",
       " 0.0002108446973545508,\n",
       " -0.0016676176215157795,\n",
       " 0.00044513759517021689,\n",
       " -0.00087620956711610687,\n",
       " -0.0022735161730322861,\n",
       " -0.001096373837689929,\n",
       " -0.00062122340240516882,\n",
       " -0.0013923730597447392,\n",
       " -1.5725613285777484e-05,\n",
       " -0.00077974615287212945,\n",
       " -0.0016399231397599828,\n",
       " 0.00022484712707558641,\n",
       " -0.0019909480811111241,\n",
       " 0.0020421283762527831,\n",
       " -0.00050469429812609323,\n",
       " -0.00036692620794288866,\n",
       " -0.0014680118934569247,\n",
       " -0.00033233112826883127,\n",
       " -0.0014956432764523242,\n",
       " 0.0010715350011850922,\n",
       " -0.00060087291526231268,\n",
       " -0.0016263521691303184,\n",
       " -6.411677268064464e-05,\n",
       " 0.0040656789047126135,\n",
       " 0.00024546706297905174,\n",
       " -2.943130829576035e-05,\n",
       " -0.00067671639360281088,\n",
       " 0.0016085554764116716,\n",
       " 6.6721728261942559e-05,\n",
       " 0.002386355041999827,\n",
       " 0.00030080145458977192,\n",
       " -0.0017228974412255987,\n",
       " 0.00090625319866778631,\n",
       " -0.00086914354812328565,\n",
       " -0.00028433561515535388,\n",
       " 0.0010783656788553586,\n",
       " 0.00082385019678954396,\n",
       " -0.0023353810968583799,\n",
       " -0.00024313496690218928,\n",
       " 0.00045875972695696987,\n",
       " -0.0015643849229900614,\n",
       " -0.00035320175384198627,\n",
       " 0.0015394369426834503,\n",
       " -0.0016056930096730732,\n",
       " -0.0011377706037118962,\n",
       " 0.00094773182254108412,\n",
       " -0.0015233121776295766,\n",
       " 0.0018493976655336447,\n",
       " 0.00043823699725194232,\n",
       " -0.0010069048168188516,\n",
       " -0.00037396835172907872,\n",
       " 0.0028610995987717464,\n",
       " -0.00088325682701799468,\n",
       " -0.0025554788579280063,\n",
       " 0.0019594712739610526,\n",
       " -0.00014666814191441335,\n",
       " 0.00018386988254166792,\n",
       " -0.0004015451628235911,\n",
       " 0.0012641054069453816,\n",
       " -0.0020462995264408645,\n",
       " 0.00047951097649692742,\n",
       " 0.00047264619138862041,\n",
       " 1.886946638827991e-05,\n",
       " -0.00013980676754991872,\n",
       " -0.00016050173981708993,\n",
       " 0.0016979426394314046,\n",
       " -0.0002703741143599836,\n",
       " 0.00065182469056900005,\n",
       " -0.00097931095200531892,\n",
       " 2.5478445711199504e-05,\n",
       " 0.0014843549461143329,\n",
       " 0.00052798058299934059,\n",
       " -0.00082109346310893505,\n",
       " 0.00021127786181782127,\n",
       " 0.00074781230605214244,\n",
       " 0.00045206206829510875,\n",
       " 0.0011745801088015317,\n",
       " -0.0012064969019024985,\n",
       " 0.00039730750313130003,\n",
       " -0.00093122164343720226,\n",
       " -0.00038080755625884144,\n",
       " 0.0016770703084863503,\n",
       " -0.00058701885289680344,\n",
       " -9.8316206073298384e-05,\n",
       " -0.0010895704459701061,\n",
       " -0.00086920664688368288,\n",
       " 6.6696147683398266e-05,\n",
       " 0.0010784714119133204,\n",
       " 0.0010166883459385434,\n",
       " -0.0013787202312637442,\n",
       " 0.0010371906111807244,\n",
       " 0.0019525894351337114,\n",
       " -0.00078676271607977522,\n",
       " -0.0013439034532423261,\n",
       " -0.0013787406957265769,\n",
       " 1.8654589528557808e-05,\n",
       " -0.00028425716804784951,\n",
       " -0.00083514534861514611,\n",
       " 0.00078248071671800645,\n",
       " -0.00075239445086876244,\n",
       " 0.0012778776114595602,\n",
       " 0.00063807295051765411,\n",
       " 0.00059004674070993468,\n",
       " -0.00046999348539406016,\n",
       " 0.00094749136510281773,\n",
       " -0.00021554962894816676,\n",
       " -0.0016951705574036607,\n",
       " -0.00036690915422385451,\n",
       " -0.001296264362856514,\n",
       " 8.0671291453990324e-05,\n",
       " 8.0558736908417639e-05,\n",
       " 0.00054835153460501551,\n",
       " -0.0014407079418668339,\n",
       " 8.0517807982752321e-05,\n",
       " -0.0023284327485268569,\n",
       " -4.3529238843348361e-05,\n",
       " 0.0022970190401371687,\n",
       " 0.0029163026767459604,\n",
       " -0.00089673570756491905,\n",
       " -0.00037358293767908446,\n",
       " 0.0022760392707622396,\n",
       " -0.0006075739846679723,\n",
       " 5.29904526734154e-05,\n",
       " 0.00098218194560342753,\n",
       " 0.0020902978373003173,\n",
       " -0.0014678737583328216,\n",
       " 0.00063102739598766555,\n",
       " 0.0018972772133577231,\n",
       " -0.0022873258957283316,\n",
       " 0.00016277755862117993,\n",
       " 0.0019732196032686,\n",
       " 0.00059663525557002162,\n",
       " 0.00079635694891826148,\n",
       " -0.00058729512314502352,\n",
       " -0.0014544767356372001,\n",
       " 0.00022517114773709657,\n",
       " 0.001691256918372866,\n",
       " 0.00098908936500928524,\n",
       " 0.00032156975784876363,\n",
       " 0.00092021128871935809,\n",
       " -0.00020185928228530492,\n",
       " -0.0018470348727625402,\n",
       " -0.0014610226161997225,\n",
       " -0.0017364803494585856,\n",
       " -0.0015986099369612455,\n",
       " 0.00032824354130396582,\n",
       " 0.00057611252586500794,\n",
       " 0.00026628141127940652,\n",
       " 0.0019460384384554913,\n",
       " -0.0031335840161183653,\n",
       " -0.0002636849825576465,\n",
       " 0.0011195492733894891,\n",
       " -0.00025650129290355483,\n",
       " -0.0011304556004212846,\n",
       " -0.0013167427528920639,\n",
       " 0.00058312738370074058,\n",
       " -0.002851459320891897,\n",
       " 0.00067256400250566284,\n",
       " 0.0001010558860349009,\n",
       " 0.0026133943299133655,\n",
       " -0.0012890721463429122,\n",
       " 0.0018702273621811344,\n",
       " 0.0018287316845888163,\n",
       " 0.00065172748437056227,\n",
       " -9.1933756984768911e-06,\n",
       " 0.00096863314480848117,\n",
       " 0.00038325220688127659,\n",
       " 0.00093361342753066345,\n",
       " -0.00083490489117686584,\n",
       " -0.001158378602012039,\n",
       " 0.00010089387570413888,\n",
       " 0.00085852201819922036,\n",
       " -0.0022595666098402245,\n",
       " 0.0016771487555938686,\n",
       " -0.0013509029627309516,\n",
       " 0.0005829721948576172,\n",
       " -0.00033234136050024066,\n",
       " 0.002585716901876603,\n",
       " 0.00018374197964897421,\n",
       " -0.00030483105890993789,\n",
       " -0.0012202588741852677,\n",
       " 0.0013743512579349471,\n",
       " -0.00081424914246344682,\n",
       " -0.0024936497469118662,\n",
       " -0.00020863538805467041,\n",
       " -0.00082814242838272212,\n",
       " -0.00055291492033071599,\n",
       " 0.0009888693720338515,\n",
       " 0.0013398670274345492,\n",
       " 0.0033567147811168346,\n",
       " -0.00055249880958645192,\n",
       " -0.00097252461400454404,\n",
       " -0.0012545640406358832,\n",
       " 0.00072756755196726197,\n",
       " -0.0014818096785496476,\n",
       " -0.0025830710173696536,\n",
       " 0.00094770794733443908,\n",
       " -0.001709101361504789,\n",
       " -0.00093803867813224695,\n",
       " -0.00082812196391988946,\n",
       " 8.0466646825677612e-05,\n",
       " 0.00095470916219496382,\n",
       " -0.0015229608710176368,\n",
       " 0.00078247901134612108,\n",
       " -0.0028651633105299668,\n",
       " 0.00095458125930225624,\n",
       " -0.00092440460874218533,\n",
       " 0.0016357127660181353,\n",
       " -0.003360671054445194,\n",
       " 0.0019319848475773671,\n",
       " -0.00054576022199895324,\n",
       " 0.0011680990323713197,\n",
       " -0.00015343742619618184,\n",
       " -0.0017298236197224176,\n",
       " 0.0020421215547651722,\n",
       " 0.00098901944476127712,\n",
       " -0.0017365826717727628,\n",
       " 0.00071367426604798667,\n",
       " -0.0027827313173293816,\n",
       " 5.2862549780707813e-05,\n",
       " 0.00041087165227335354,\n",
       " -0.0019293457845580286,\n",
       " -4.3611096694665119e-05,\n",
       " 0.00025237959850063496,\n",
       " -0.00035998809184277503,\n",
       " 3.9069880803696555e-05,\n",
       " 0.0004452791410381185,\n",
       " -0.0014267941914847398,\n",
       " -0.00013996707250876761,\n",
       " -0.00070388391544069784,\n",
       " 0.0014296072024381351,\n",
       " -0.00040123819588111509,\n",
       " 0.0029574555745858488,\n",
       " -0.00060777521855247263,\n",
       " -0.00017417162201713299,\n",
       " 0.00036268172676298671,\n",
       " 0.00049377603349097521,\n",
       " -0.00047729996182514778,\n",
       " 0.0013469995559315801,\n",
       " -0.00044927634329215704,\n",
       " 0.00050034237851631636,\n",
       " -0.0012408242381878459,\n",
       " 5.28523175493123e-05,\n",
       " 0.001711568181961956,\n",
       " 5.9887639847863716e-05,\n",
       " 0.00022483518947227776,\n",
       " 0.00094086703743277711,\n",
       " 0.0020421147332775474,\n",
       " -0.0012203475535242092,\n",
       " 0.00070669010490648221,\n",
       " 0.0014707601002780374,\n",
       " -0.00067676414401610097,\n",
       " -0.001000374284603478,\n",
       " -0.0011793890680812102,\n",
       " -0.00084171680975619889,\n",
       " -0.0003394926480882049,\n",
       " 0.001863060726246063,\n",
       " 0.00091335332509866196,\n",
       " 0.0010027626579531268,\n",
       " -0.00046303831557491237,\n",
       " -0.0011516007908707604,\n",
       " 0.0012233600929902194,\n",
       " -0.001158685568954515,\n",
       " 0.00087913001649936318,\n",
       " -0.00082797018582055071,\n",
       " -2.9915633916105522e-05,\n",
       " 0.00050713894874851451,\n",
       " 3.2269899827686022e-05,\n",
       " 0.00038351312878238952,\n",
       " -0.00062831329660460733,\n",
       " -0.0012203339105489736,\n",
       " -0.00036024219225626319,\n",
       " 0.0012231707967090277,\n",
       " -0.00059395355825311857,\n",
       " -0.00098633433670058945,\n",
       " -0.0020874319598179203,\n",
       " 0.00063786489514552902,\n",
       " -0.0003048378803975349,\n",
       " 0.00011466949096212986,\n",
       " 0.00026630187574225306,\n",
       " 0.00058958117418052292,\n",
       " 0.00048675605953953094,\n",
       " -0.00054570906084186466,\n",
       " 0.0013674881781985393,\n",
       " 0.00083059219512085503,\n",
       " 0.0001489593090656105,\n",
       " 0.001980161130112526,\n",
       " -0.00071775162078142885,\n",
       " 0.0019044779567308628,\n",
       " -0.0016472398484224937,\n",
       " -0.0017021206111070969,\n",
       " -0.0019981812265504051,\n",
       " 9.4185984810882251e-05,\n",
       " -0.00021534157357604167,\n",
       " 0.0011955666996640579,\n",
       " -0.0016059061811609099,\n",
       " 0.00030067014095325195,\n",
       " -9.1645833361894691e-05,\n",
       " 0.00047281843395079182,\n",
       " 0.0021797651527994816,\n",
       " 0.00085826450704191981,\n",
       " 0.0008241878604262759,\n",
       " 0.002014599315571533,\n",
       " 0.00060342329894270963,\n",
       " 0.0012505702491256709,\n",
       " -0.0015368251656145693,\n",
       " 0.00092038523665341487,\n",
       " 0.00043162119644141184,\n",
       " -0.00050447601052255875,\n",
       " -0.00024983774167974815,\n",
       " 0.0016017861921299031,\n",
       " 0.00063126614805404657,\n",
       " 0.00072736461271083463,\n",
       " -0.0010550572241473793,\n",
       " -0.00062173671934785679,\n",
       " 0.00063801155712917001,\n",
       " 0.00096141875846013358,\n",
       " 0.0012506845090431429,\n",
       " 0.0010856533961955128,\n",
       " -0.00021523242977428136,\n",
       " -0.0011584604598633697,\n",
       " 3.9359794027152284e-05,\n",
       " 0.0016358560172579639,\n",
       " -0.00095198824132429472,\n",
       " -8.7960240451601113e-06,\n",
       " -0.0017089052437359864,\n",
       " -0.00024978487515077419,\n",
       " 0.00014264365370995902,\n",
       " 0.00078935914480154912,\n",
       " -0.00093843261904175135,\n",
       " -0.0007729205913175885,\n",
       " -0.0014956313388490017,\n",
       " -0.0012685954616792616,\n",
       " 0.00098899727492654521,\n",
       " -0.00045643274699581904,\n",
       " -0.0011447786400600179,\n",
       " 0.00023872677001963993,\n",
       " 0.0011402493617723858,\n",
       " 0.0018700295390404326,\n",
       " 0.0002938121773325697,\n",
       " 0.00082358586414463253,\n",
       " 0.0021111087748568735,\n",
       " -0.00061448310944574314,\n",
       " 0.0018629686361633091,\n",
       " 0.00056925285687241256,\n",
       " -0.0014061793716969723,\n",
       " 0.0010234303442698545,\n",
       " 0.00056203505978025259,\n",
       " -0.0016882051553531036,\n",
       " 0.00090625490403968556,\n",
       " -2.2766051700054413e-05,\n",
       " 0.00048656164714261374,\n",
       " -0.0019019139300752441,\n",
       " -0.00096562401608626947,\n",
       " -0.0003394193170963844,\n",
       " -0.0018466835661506004,\n",
       " -0.0025074901663021537,\n",
       " -0.00085547707666705497,\n",
       " 0.0011263918886630642,\n",
       " -0.00043556894291026105,\n",
       " 0.00091320154699932321,\n",
       " 3.2339820075708015e-05,\n",
       " -0.00056609024467896285,\n",
       " 0.0019455063624218699,\n",
       " 0.0021659793053100673,\n",
       " 0.00027997857942987925,\n",
       " 0.00020440966596570187,\n",
       " 0.0012575203028291071,\n",
       " 0.0013195506477297614,\n",
       " 0.00017000388257283616,\n",
       " 0.0023035086434268909,\n",
       " 0.00035569586024959687,\n",
       " 0.00023884102993711187,\n",
       " 0.0017391705736349988,\n",
       " 0.0010304162107832443,\n",
       " -0.0002566752408376255,\n",
       " 0.00032128496074101953,\n",
       " -0.00061467922721454571,\n",
       " 0.0002111005031399521,\n",
       " -0.0016191957654266564,\n",
       " -0.00044951850610232269,\n",
       " 0.00087863375327570936,\n",
       " 0.0008168370443256967,\n",
       " -0.00058017282687942984,\n",
       " 0.00047933361781905826,\n",
       " 0.0014913698039500795,\n",
       " -0.00033221175223563382,\n",
       " -0.00011900094610907408,\n",
       " 0.00056910619488877157,\n",
       " -0.00064921120812820587,\n",
       " -0.0024865308613900572,\n",
       " -0.00038741824095364641,\n",
       " -0.00092418802651053622,\n",
       " -0.00024324922681966121,\n",
       " 8.7143841024692192e-05,\n",
       " 0.00025238471461634659,\n",
       " -0.0015161404255787936,\n",
       " -0.00098620813917978112,\n",
       " 0.00089250998547595051,\n",
       " -0.0006627548928074406,\n",
       " 0.00057583625561677398,\n",
       " -0.0011999783072904197,\n",
       " 0.00024573480636776168,\n",
       " -0.00076579829505196706,\n",
       " -0.00056654387360506597,\n",
       " 0.0014502595404077556,\n",
       " -0.00050411788242299416,\n",
       " -0.00084844004899659042,\n",
       " -0.0010344731010538677,\n",
       " -0.0016057049472764096,\n",
       " -0.00065597026017855109,\n",
       " -0.0022732381974121668,\n",
       " 0.0017461121004789248,\n",
       " 0.00042467625885370119,\n",
       " -0.0015368712106559324,\n",
       " -0.001461080598844422,\n",
       " -0.00013976072250855565,\n",
       " -0.00067661748203245997,\n",
       " 6.674219272476134e-05,\n",
       " 1.188189450299082e-05,\n",
       " -0.00026386916272314043,\n",
       " 0.0023862885324956173,\n",
       " -0.0015573240201129379,\n",
       " -0.0010895823835734286,\n",
       " -0.00034606410922925768,\n",
       " 4.5788288157017076e-06,\n",
       " 0.0023584507995000059,\n",
       " 0.00025264222577364714,\n",
       " -0.00075941954093591835,\n",
       " 0.00016298902473710353,\n",
       " 0.00018375050650848435,\n",
       " -0.00036680342116589271,\n",
       " 0.0012713897135417374,\n",
       " -0.0020326927430012465,\n",
       " 0.0006173302278372067,\n",
       " -0.0014747436595568264,\n",
       " 0.001182137274902309,\n",
       " 0.00019056754120351516,\n",
       " -0.0010003265341901879,\n",
       " -0.00073175916661817608,\n",
       " 0.00092726195936505829,\n",
       " 6.6426698922789074e-05,\n",
       " 8.7273449289299032e-05,\n",
       " -0.0017503020097579536,\n",
       " -0.00087616522744662917,\n",
       " 0.0018632807192214967,\n",
       " -0.0007938236189568848,\n",
       " -0.00049780052169542954,\n",
       " -0.00074564733642173975,\n",
       " -0.0027758256032954232,\n",
       " -0.0016540040165885367,\n",
       " 0.0011956229769368582,\n",
       " -0.00055276825834707499,\n",
       " 0.00083758829386566813,\n",
       " 2.5495499430219781e-05,\n",
       " -0.0015713213337182758,\n",
       " -0.0050196972965441261,\n",
       " -0.0015986338121678767,\n",
       " 0.0016841806671486353,\n",
       " 0.0020351902601526556,\n",
       " 0.0020419441960872892,\n",
       " -0.00066291178702247711,\n",
       " 0.00022489317211696336,\n",
       " -0.0033474548011712679,\n",
       " -0.00066986866221353802,\n",
       " -0.0023215168022614752,\n",
       " 0.0013608229216028334,\n",
       " 0.001546306843907469,\n",
       " -0.0013855713733968295,\n",
       " 0.0016086032268249478,\n",
       " -0.0010000809606362238,\n",
       " -0.00012596123204391962,\n",
       " -0.00023596492022330551,\n",
       " 0.0021659400817563151,\n",
       " 0.00015610036442215147,\n",
       " -0.00043558088051358357,\n",
       " 0.0019940510052879751,\n",
       " 0.00039009652752675095,\n",
       " -0.00051142265348218252,\n",
       " -0.00043586908836514004,\n",
       " -0.00064912593953307673,\n",
       " 0.00010099108190259054,\n",
       " -0.00034624487865093923,\n",
       " 0.0011404915245825514,\n",
       " 0.0018630027436013774,\n",
       " -0.0018811712073947967,\n",
       " 0.00091327146724733133,\n",
       " -0.0010689948497361046,\n",
       " 0.0017051024538788651,\n",
       " -0.00026365769660721683,\n",
       " 0.0028539960615970861,\n",
       " -0.00087613112000857474,\n",
       " -0.0011448434441923283,\n",
       " -0.00050445213531591371,\n",
       " 0.00078245684151138917,\n",
       " -0.00041496094461011823,\n",
       " 0.0017323416013366455,\n",
       " -0.0015367057895813857,\n",
       " -0.0013580389019717809,\n",
       " 0.00010155044388665546,\n",
       " -0.0005388357488740475,\n",
       " 0.0017184960658306603,\n",
       " -0.0010346146469217832,\n",
       " 0.00021090779611494803,\n",
       " -0.0016745369785249736,\n",
       " -0.00058723884587225106,\n",
       " 0.00076878525393944686,\n",
       " -0.0021702476616966004,\n",
       " -0.00064230037797853579,\n",
       " -0.00020153355625189551,\n",
       " 6.0085462988579419e-05,\n",
       " 0.00085818947067820006,\n",
       " 0.0020282129204987759,\n",
       " 0.0005965653353220135,\n",
       " -7.7965718930456118e-05,\n",
       " -0.0011238568533298021,\n",
       " -0.0010070105498768411,\n",
       " 0.00023205810268013549,\n",
       " 0.0020693965150329202,\n",
       " -0.0018329949248596378,\n",
       " -0.00083490148043306733,\n",
       " -0.00040798701570005091,\n",
       " 0.00046581039760265619,\n",
       " 0.0013949797206979225,\n",
       " 0.0014707225820961706,\n",
       " 0.00011508219096256767,\n",
       " 0.00058988643575109967,\n",
       " -0.0015851105919514746,\n",
       " -0.0010552090022467042,\n",
       " -0.0016812414586744318,\n",
       " 0.00069976563178159035,\n",
       " -0.0019979714658063807,\n",
       " -0.0028171848511355374,\n",
       " 0.00065871505625585136,\n",
       " -0.0027000725096657519,\n",
       " 0.0016769441109655558,\n",
       " 0.00078255063696601457,\n",
       " 0.00032134464875760438,\n",
       " 0.00019043793293890832,\n",
       " 0.0013471359856837839,\n",
       " -0.00037390866371247999,\n",
       " 0.00019747666598129987,\n",
       " -0.00044935649577157455,\n",
       " -0.0017367651465663436,\n",
       " -0.0019290729250536071,\n",
       " 0.0011818644153978874,\n",
       " 0.00099572733565454763,\n",
       " -0.0014406107356683823,\n",
       " -8.9921418139765619e-06,\n",
       " -0.00053905915259329362,\n",
       " -0.0014955989367828465,\n",
       " -0.0014199771567896952,\n",
       " 0.0015876695024913956,\n",
       " 0.00015636640243896216,\n",
       " -0.00057315967441558258,\n",
       " 0.00058312908907265371,\n",
       " 0.00050042764711145937,\n",
       " 0.00066551844797567428,\n",
       " -0.001364743382121239,\n",
       " 0.00097525065099091091,\n",
       " 0.001697915353480961,\n",
       " -0.0013785360510982503,\n",
       " 0.00025235742866590305,\n",
       " 0.00048671171987006712,\n",
       " 0.00012194015458326379,\n",
       " -0.00018811947983726762,\n",
       " -0.00034646998774207072,\n",
       " -0.0020669007032533965,\n",
       " -0.00011910838453893513,\n",
       " 0.0010163677360208456,\n",
       " -0.0018604932888466319,\n",
       " 0.0007482744618377557,\n",
       " -0.00029122427547030594,\n",
       " 0.0011471942993601242,\n",
       " -0.00069046472291035832,\n",
       " -0.00086941981837150573,\n",
       " -0.00015319526338600231,\n",
       " -0.00084153262959071884,\n",
       " -0.00016029880056069035,\n",
       " -0.00091765067280753787,\n",
       " 0.0006999975623603466,\n",
       " 0.0010162995211447368,\n",
       " -1.5631817831124328e-05,\n",
       " 0.0002662848220232189,\n",
       " 0.0012643936147969242,\n",
       " 0.00076176869073180109,\n",
       " -0.00038035904344844995,\n",
       " -0.00084851849610410868,\n",
       " 0.00043809374601212758,\n",
       " -3.6383067371095756e-05,\n",
       " -0.00058720132769038424,\n",
       " -0.0032162684043605533,\n",
       " -0.00021560249547714072,\n",
       " -0.0010895789728296162,\n",
       " -0.0013508228102515202,\n",
       " 0.00079646438734812253,\n",
       " -0.0023626390034071076,\n",
       " -0.002094470692860298,\n",
       " -0.00047692648537847604,\n",
       " 0.00162912936727376,\n",
       " -0.00070395554106060521,\n",
       " 0.0002318943869774881,\n",
       " -0.00018779204843195896,\n",
       " -0.00031171460310917831,\n",
       " 0.00087890661278013094,\n",
       " -0.0020258740029343025,\n",
       " -0.0004977595927697781,\n",
       " -0.00021538761861740474,\n",
       " -0.0015094291239417384,\n",
       " -0.0016813949421456698,\n",
       " 0.001787357088401581,\n",
       " 0.00029386504386154366,\n",
       " 0.00017670665735039504,\n",
       " 0.00094759027667316864,\n",
       " 0.00031439118431036972,\n",
       " -0.0012824870422266377,\n",
       " 0.00039695108040364857,\n",
       " -0.0019566753167266637,\n",
       " -0.00093132908186707719,\n",
       " 0.00016315444581165017,\n",
       " -0.0011789235015517846,\n",
       " 0.0015052630898693409,\n",
       " 0.00015618733838917986,\n",
       " -0.0019912721017726343,\n",
       " 0.00086520432851394657,\n",
       " 0.0013470353687415337,\n",
       " 0.00025937910798924657,\n",
       " 0.0017734740347137151,\n",
       " -0.0010619953402475069,\n",
       " 0.00037650168169044151,\n",
       " 0.00012854742853427026,\n",
       " -0.0021703414571512536,\n",
       " 0.00095434591797970147,\n",
       " 0.00098901091790176698,\n",
       " -0.002238999540465747,\n",
       " 0.0010509594049511045,\n",
       " -0.0024386803048883215,\n",
       " 0.0002184138010586506,\n",
       " 3.9347856423829763e-05,\n",
       " -0.00070397259477963936,\n",
       " 0.0013677712699343703,\n",
       " 3.9189256836880126e-05,\n",
       " 0.0032120085748335164,\n",
       " 0.00021797381510776925,\n",
       " 0.00052125734375894905,\n",
       " 0.00049349294175513037,\n",
       " 0.0015052784382164619,\n",
       " -0.0019845522732760412,\n",
       " -0.0010621778150410877,\n",
       " -0.00068342257912418214,\n",
       " 0.0023587543556986695,\n",
       " 0.00027293814101560232,\n",
       " -0.0028790804716558871,\n",
       " -0.00099331849784206616,\n",
       " 0.00014941805410743914,\n",
       " -0.00038775249384656596,\n",
       " 0.00038365979076600276,\n",
       " -0.001186228272610973,\n",
       " -0.0021908437223934346,\n",
       " 0.00026640419805640247,\n",
       " -0.00096592075079733608,\n",
       " -0.0016609489541762751,\n",
       " 0.00083752690047717016,\n",
       " -0.00059406440742679201,\n",
       " 0.0016702822651136623,\n",
       " -0.0014269135675179095,\n",
       " -0.00029792534487596556,\n",
       " -0.0011306534235620003,\n",
       " 0.00036972557592107602,\n",
       " -0.0027550982289620829,\n",
       " 0.00038338522588968194,\n",
       " 0.0010095097724001495,\n",
       " -0.0010001730507189638,\n",
       " -0.00066261675768332362,\n",
       " -0.0003807256984075108,\n",
       " 0.00014260784090000533,\n",
       " 0.0018909257451921319,\n",
       " 0.0012573241850603045,\n",
       " -0.0014611607513238395,\n",
       " 0.0011334186841021193,\n",
       " -0.00080755659991731121,\n",
       " 0.0016701287816424243,\n",
       " -0.0013168996471071004,\n",
       " 0.00068612133016010546,\n",
       " 0.0010096734881027969,\n",
       " 0.0024687512223904445,\n",
       " 0.00089914625074929977,\n",
       " -0.00075229724467031078,\n",
       " 0.0014709954416005921,\n",
       " 0.0022417784439811017,\n",
       " 0.00050015990372273555,\n",
       " 0.00033519188963550273,\n",
       " 0.0012778469147653182,\n",
       " -0.00069026689976965649,\n",
       " 0.00043134492619320564,\n",
       " 0.0010922726077498418,\n",
       " 0.0011819735591996616,\n",
       " 0.0018975364298869368,\n",
       " -0.00047004464655114875,\n",
       " 0.00097549451917298968,\n",
       " -0.00013967204316960025,\n",
       " 0.00075508467504517562,\n",
       " -0.0017090365573724786,\n",
       " -0.0012754994703413347,\n",
       " -0.00065582700893873636,\n",
       " -0.0012820624046228773,\n",
       " -0.0027068690798979639,\n",
       " -0.0002843731333372207,\n",
       " -0.0022457722354913279,\n",
       " -0.0015299092193491876,\n",
       " -0.00073194334678365613,\n",
       " 0.0013607410637515166,\n",
       " 0.00098226039271093191,\n",
       " -0.0010137781287866965,\n",
       " -0.0012748514290183283,\n",
       " 0.0011819411571335064,\n",
       " -0.00037366309015850196,\n",
       " 0.00022516432624948568,\n",
       " 0.00018394491890538767,\n",
       " -0.00061475767432207784,\n",
       " 0.0011332634952589959,\n",
       " -4.3334826446431163e-05,\n",
       " -0.00084863446139349374,\n",
       " 0.0006791712764566693,\n",
       " -0.00088329093445603524,\n",
       " -0.00057341889094478238,\n",
       " 0.0001561344718602059,\n",
       " 0.0014021446512610947,\n",
       " -0.0014542823232403107,\n",
       " 0.0017461888422145438,\n",
       " 0.00090634869949432484,\n",
       " 0.00027994958810753645,\n",
       " -0.00038766551987953757,\n",
       " 0.00093401930604349037,\n",
       " -0.0010691415117197456,\n",
       " 0.00012862417026988926,\n",
       " -0.00033908165345966634,\n",
       " 0.00090632311891578055,\n",
       " -0.00013293004483828919,\n",
       " 0.0016015917797330137,\n",
       " 0.0003073098169704136,\n",
       " -0.0012272686159052887,\n",
       " -8.9205161940553168e-06,\n",
       " 0.00061070419479526683,\n",
       " 0.0003283816764280828,\n",
       " -0.001936137238674529,\n",
       " -0.00093814441119020875,\n",
       " -0.00077297516321847559,\n",
       " 0.0010095507013258009,\n",
       " 0.00056895271141754744,\n",
       " 0.00098194319353704651,\n",
       " 0.0014984699303809551,\n",
       " 9.4078546381007322e-05,\n",
       " -0.0008555555237745871,\n",
       " -0.0014681568500686387,\n",
       " -0.00051153520802775521,\n",
       " -0.001509377962784636,\n",
       " 0.00019057095194732754,\n",
       " 0.00050714577023612539,\n",
       " -0.0015093813735284484,\n",
       " 6.6639870410598046e-05,\n",
       " -0.00278268186154422,\n",
       " -0.00064223727921813856,\n",
       " 0.00094076300974670068,\n",
       " 0.00018383236435981498,\n",
       " -0.00060767289623832321,\n",
       " 0.00081008310839106312,\n",
       " 0.00059668471135521095,\n",
       " -0.0010139367283736322,\n",
       " 0.00097505623859400758,\n",
       " -0.0012754227286057157,\n",
       " -0.00020873771036884758,\n",
       " -0.00073863588932980562,\n",
       " 0.00050045152231809054,\n",
       " -0.00033938862040214235,\n",
       " 0.0013744791608276408,\n",
       " -0.00082825839367209331,\n",
       " -2.2725122774389095e-05,\n",
       " 0.00063117746871510505,\n",
       " -0.00029119698951986239,\n",
       " -0.001034413413037269,\n",
       " 0.00041792061754715448,\n",
       " -0.00039430690126861234,\n",
       " 0.00052094526070076141,\n",
       " 0.0003694834131108965,\n",
       " -0.00043568490819964611,\n",
       " 0.0019871077730721498,\n",
       " 0.00016992202472150553,\n",
       " -0.00075912621696866411,\n",
       " -0.00017405736209964717,\n",
       " -0.001440547636907985,\n",
       " 0.0002662046695438014,\n",
       " -0.00036027800506621688,\n",
       " 0.0014844112233871332,\n",
       " -0.00201173343808915,\n",
       " 0.0012987721122393464,\n",
       " -0.0017366611188802672,\n",
       " -0.0028377433936505048,\n",
       " -0.0023148481349219707,\n",
       " -0.0004426656585973382,\n",
       " -0.0018326572612229058,\n",
       " 0.00038342444944343412,\n",
       " -0.00096572633840043276,\n",
       " 0.00027309332985875345,\n",
       " 0.00092014989533086011,\n",
       " -0.0013442990995237436,\n",
       " 0.0013603556497015223,\n",
       " -0.0011721115829724654,\n",
       " 8.7200118297478535e-05,\n",
       " -0.00011210716967841039,\n",
       " -0.0013095215450561054,\n",
       " 7.3642790643022038e-05,\n",
       " 0.0011540215662865644,\n",
       " -0.00073873821164396891,\n",
       " 4.8073486506594598e-06,\n",
       " 0.00012161101780605588,\n",
       " -0.00060774452185823058,\n",
       " -8.4694074286545407e-05,\n",
       " -0.00093825696573578143,\n",
       " 0.0020903507038292912,\n",
       " 0.0011403090497889706,\n",
       " 0.00016991349786199539,\n",
       " 0.0025923548725218515,\n",
       " 0.00025924438360894198,\n",
       " -0.00022939516445415198,\n",
       " -0.00075893350994366005,\n",
       " 0.0025443423056893677,\n",
       " -0.00023617468096734373,\n",
       " -0.00018822009677953166,\n",
       " 0.0005759795068566026,\n",
       " -0.00068364768821534139,\n",
       " 0.00014249528635443265,\n",
       " -0.00097258941813684052,\n",
       " 0.0010785430375332139,\n",
       " -0.0024730622130745561,\n",
       " -0.0002840115944938576,\n",
       " 0.00099597120383662641,\n",
       " -0.0011236880215114292,\n",
       " -2.0284451353047572e-06,\n",
       " -7.1104344565947608e-05,\n",
       " 0.00077556477045262473,\n",
       " 0.0011129232403475492,\n",
       " -8.4639502385672194e-05,\n",
       " -0.00053894830341962019,\n",
       " 0.00013569360000650899,\n",
       " -0.0021014224519356473,\n",
       " 0.00021113802132180504,\n",
       " -0.001564534995717487,\n",
       " 0.00025254672494709474,\n",
       " -0.00058729000702932577,\n",
       " 0.00034909199704238891,\n",
       " -0.00010530207258668822,\n",
       " -0.00056671782153912276,\n",
       " -0.00075882777688569825,\n",
       " -0.0016951228069903845,\n",
       " 0.0013748082976048487,\n",
       " 0.0018216520226207733,\n",
       " -0.00038743358930078131,\n",
       " -0.00064233278004469097,\n",
       " 0.0012162071000303698,\n",
       " 0.0013881712128624019,\n",
       " -0.0014197810390208926,\n",
       " -0.00038744723227600308,\n",
       " -0.00016730513153691284,\n",
       " -0.0013237013334550241,\n",
       " 0.00011472406286301695,\n",
       " -1.6133197170503655e-05,\n",
       " 0.0013471581555185297,\n",
       " 0.0005829756056014157,\n",
       " 0.00038334941307972825,\n",
       " 0.0013192436807872854,\n",
       " -0.00093134101947039971,\n",
       " -0.00077982971609535934,\n",
       " -0.0015440088552686609,\n",
       " -0.00027743672260900631,\n",
       " 0.0015812583463091917,\n",
       " 0.0010989992577340318,\n",
       " 0.0005348300197605127,\n",
       " 0.00048660769218399069,\n",
       " -0.00039448596531838076,\n",
       " -0.00061445070737958796,\n",
       " -0.0018051554864921132,\n",
       " -0.0019843084050939624,\n",
       " 0.00074784811886209612,\n",
       " 0.00067269872688596744,\n",
       " -0.00013970444523575543,\n",
       " -0.0022526148507648891,\n",
       " -0.00099319912180888259,\n",
       " -0.00050438733118360335,\n",
       " -0.0014612170285966258,\n",
       " 0.0020419578390625109,\n",
       " 0.0015464876133291505,\n",
       " 0.0012507629561506611,\n",
       " -0.0018191920236512032,\n",
       " 0.0015396091852456217,\n",
       " -1.5908088079358285e-05,\n",
       " -0.0007388217748671988,\n",
       " -8.9733827230431551e-06,\n",
       " -0.0019843049943501639,\n",
       " 0.0014571635490698148,\n",
       " 0.00045204842531988698,\n",
       " -5.6916029307518823e-05,\n",
       " 0.00099587911375388638,\n",
       " -0.00080060143009814955,\n",
       " -0.001144649031795425,\n",
       " -9.1422145414021827e-06,\n",
       " -0.0010550862154697221,\n",
       " -0.00031178793410098493,\n",
       " 0.00099597461458043879,\n",
       " 0.0014984511712900217,\n",
       " 0.0028748359904759851,\n",
       " 0.0011470254675417513,\n",
       " 7.3625736924001761e-05,\n",
       " -0.0028513501770901367,\n",
       " -0.00057340524796956061,\n",
       " -0.00083499527588772049,\n",
       " 0.0011953739926390677,\n",
       " 0.0014572351746897222,\n",
       " 0.0012988130411650117,\n",
       " -0.0023079049027061316,\n",
       " -0.0002913214816687576,\n",
       " -0.00060101275575834279,\n",
       " -0.00010542656473559731,\n",
       " 0.00098902626624888801,\n",
       " 0.00076188977213689779,\n",
       " -0.0017162475329770277,\n",
       " 0.00076887904939410001,\n",
       " -0.0023628265943164001,\n",
       " -0.00060081493261762708,\n",
       " -0.00027726959616254654,\n",
       " -0.00038064213518429479,\n",
       " 0.00034183838714027526,\n",
       " 0.00063794334225306115,\n",
       " -9.8234348221981627e-05,\n",
       " 0.0010302269145020526,\n",
       " 8.0584317486961932e-05,\n",
       " 0.00066540418805820234,\n",
       " 0.0016566157936574455,\n",
       " -0.0016333243926684865,\n",
       " -1.6066687666294044e-05,\n",
       " -0.0022456477433424188,\n",
       " -0.00033256476421948677,\n",
       " 0.00028676662280258114,\n",
       " 0.00065155524180839086,\n",
       " -0.00022228310041998156,\n",
       " -0.0007247170228319999,\n",
       " -0.00022939857519796436,\n",
       " -0.00076620246819289473,\n",
       " 0.0010853856528068029,\n",
       " 0.00027321441126383628,\n",
       " 0.00090602638420474169,\n",
       " 0.0012646289561194929,\n",
       " 0.00044538146335229567,\n",
       " 0.0011815216356454578,\n",
       " 6.0090579104291053e-05,\n",
       " -0.00066292884074151126,\n",
       " -0.00099339012346198741,\n",
       " -0.00064900826887180629,\n",
       " -0.00010531401019002462,\n",
       " 0.00083755418642762758,\n",
       " 0.00083076955379873807,\n",
       " -0.00012625285063927461,\n",
       " -0.00088304536090207109,\n",
       " 0.0018216844246869146,\n",
       " -0.00075920125333238386,\n",
       " 0.00075505056760713507,\n",
       " 0.00051425953964222282,\n",
       " 0.003343056836520128,\n",
       " 0.0016979545770347132,\n",
       " -0.00038047671410972039,\n",
       " -0.00085554699691507696,\n",
       " -0.00038086383353162778,\n",
       " -0.0019430855870060659,\n",
       " -0.00010550330647121631,\n",
       " 0.00095444312417813926,\n",
       " -0.00049059807295040447,\n",
       " -0.0021838953740618977,\n",
       " -0.0019707237914890763,\n",
       " -0.00045639693418585148,\n",
       " -3.6666159106926721e-05,\n",
       " 0.00023182958284517774,\n",
       " -0.000835075428367138,\n",
       " 0.0004179649572166183,\n",
       " 0.0012437344553397067,\n",
       " ...]"
      ]
     },
     "execution_count": 27,
     "metadata": {},
     "output_type": "execute_result"
    }
   ],
   "source": [
    "p_diffs = []\n",
    "for _ in range(10000):\n",
    "    new_simulation = np.random.binomial(1, df2['converted'].mean(), n_new).mean()\n",
    "    old_simulation = np.random.binomial(1, df2['converted'].mean(), n_old).mean()\n",
    "    p_diffs.append(new_simulation.mean()-old_simulation.mean())\n",
    "    \n",
    "p_diffs\n"
   ]
  },
  {
   "cell_type": "markdown",
   "metadata": {},
   "source": [
    "i. Plot a histogram of the **p_diffs**.  Does this plot look like what you expected?  Use the matching problem in the classroom to assure you fully understand what was computed here."
   ]
  },
  {
   "cell_type": "code",
   "execution_count": 28,
   "metadata": {},
   "outputs": [
    {
     "data": {
      "text/plain": [
       "-0.0015782389853555567"
      ]
     },
     "execution_count": 28,
     "metadata": {},
     "output_type": "execute_result"
    }
   ],
   "source": [
    "control_conversion = df2.query('group == \"control\"')['converted'].mean()\n",
    "treatment_conversion = df2.query('group == \"treatment\"')['converted'].mean()\n",
    "obs_diff = treatment_conversion - control_conversion\n",
    "obs_diff"
   ]
  },
  {
   "cell_type": "code",
   "execution_count": 29,
   "metadata": {},
   "outputs": [
    {
     "data": {
      "image/png": "[encoded data removed]",
      "text/plain": [
       "<matplotlib.figure.Figure at 0x7fc9d5523eb8>"
      ]
     },
     "metadata": {
      "needs_background": "light"
     },
     "output_type": "display_data"
    }
   ],
   "source": [
    "plt.hist(p_diffs);\n",
    "plt.axvline(obs_diff,c='red');"
   ]
  },
  {
   "cell_type": "markdown",
   "metadata": {},
   "source": [
    "j. What proportion of the **p_diffs** are greater than the actual difference observed in **ab_data.csv**?"
   ]
  },
  {
   "cell_type": "code",
   "execution_count": 30,
   "metadata": {},
   "outputs": [
    {
     "data": {
      "text/plain": [
       "0.90000000000000002"
      ]
     },
     "execution_count": 30,
     "metadata": {},
     "output_type": "execute_result"
    }
   ],
   "source": [
    "(p_diffs > obs_diff).mean()"
   ]
  },
  {
   "cell_type": "markdown",
   "metadata": {},
   "source": [
    "k. Please explain using the vocabulary you've learned in this course what you just computed in part **j.**  What is this value called in scientific studies?  What does this value mean in terms of whether or not there is a difference between the new and old pages?"
   ]
  },
  {
   "cell_type": "markdown",
   "metadata": {},
   "source": [
    "**As seen in the histogram, it clearly shows that majority of values in p_diffs are greater than obs_diff (90.89% to be exact). This value is basically the p-value which means we have no evidence to reject our null hypothsis as it is greater than our Type I error threshold of 0.05**"
   ]
  },
  {
   "cell_type": "markdown",
   "metadata": {},
   "source": [
    "l. We could also use a built-in to achieve similar results.  Though using the built-in might be easier to code, the above portions are a walkthrough of the ideas that are critical to correctly thinking about statistical significance. Fill in the below to calculate the number of conversions for each page, as well as the number of individuals who received each page. Let `n_old` and `n_new` refer the the number of rows associated with the old page and new pages, respectively."
   ]
  },
  {
   "cell_type": "code",
   "execution_count": 31,
   "metadata": {},
   "outputs": [
    {
     "name": "stderr",
     "output_type": "stream",
     "text": [
      "/opt/conda/lib/python3.6/site-packages/statsmodels/compat/pandas.py:56: FutureWarning: The pandas.core.datetools module is deprecated and will be removed in a future version. Please use the pandas.tseries module instead.\n",
      "  from pandas.core import datetools\n"
     ]
    },
    {
     "data": {
      "text/plain": [
       "(17489, 17264, 145274, 145310)"
      ]
     },
     "execution_count": 31,
     "metadata": {},
     "output_type": "execute_result"
    }
   ],
   "source": [
    "import statsmodels.api as sm\n",
    "\n",
    "convert_old = df2[df2['group'] == 'control']['converted'].sum()\n",
    "convert_new = df2[df2['group'] == 'treatment']['converted'].sum()\n",
    "n_old = df2[df2['group'] == 'control'].shape[0]\n",
    "n_new = df2[df2['group'] == 'treatment'].shape[0]\n",
    "\n",
    "convert_old,convert_new,n_old,n_new"
   ]
  },
  {
   "cell_type": "markdown",
   "metadata": {},
   "source": [
    "m. Now use `stats.proportions_ztest` to compute your test statistic and p-value.  [Here](https://docs.w3cub.com/statsmodels/generated/statsmodels.stats.proportion.proportions_ztest/) is a helpful link on using the built in."
   ]
  },
  {
   "cell_type": "code",
   "execution_count": 32,
   "metadata": {},
   "outputs": [
    {
     "data": {
      "text/plain": [
       "(-1.3109241984234394, 0.90505831275902449)"
      ]
     },
     "execution_count": 32,
     "metadata": {},
     "output_type": "execute_result"
    }
   ],
   "source": [
    "z_score, p_value = sm.stats.proportions_ztest((convert_new, convert_old), (n_new, n_old), alternative='larger')\n",
    "z_score, p_value"
   ]
  },
  {
   "cell_type": "markdown",
   "metadata": {},
   "source": [
    "n. What do the z-score and p-value you computed in the previous question mean for the conversion rates of the old and new pages?  Do they agree with the findings in parts **j.** and **k.**?"
   ]
  },
  {
   "cell_type": "markdown",
   "metadata": {},
   "source": [
    "**The p-value confirms our aformentioned conclusion by failing to reject the null hypothesis (new page bring the same or less conversions than the old page) as it is more than the Type I error threshold we put, 0.05. And since the z-score is greater than -1.96 it further confirms our conclusion**"
   ]
  },
  {
   "cell_type": "markdown",
   "metadata": {},
   "source": [
    "<a id='regression'></a>\n",
    "### Part III - A regression approach\n",
    "\n",
    "`1.` In this final part, you will see that the result you achieved in the A/B test in Part II above can also be achieved by performing regression.<br><br> \n",
    "\n",
    "a. Since each row is either a conversion or no conversion, what type of regression should you be performing in this case?"
   ]
  },
  {
   "cell_type": "markdown",
   "metadata": {},
   "source": [
    "**Since the response variable is categorical, we should use logistic regression**"
   ]
  },
  {
   "cell_type": "markdown",
   "metadata": {},
   "source": [
    "b. The goal is to use **statsmodels** to fit the regression model you specified in part **a.** to see if there is a significant difference in conversion based on which page a customer receives. However, you first need to create in df2 a column for the intercept, and create a dummy variable column for which page each user received.  Add an **intercept** column, as well as an **ab_page** column, which is 1 when an individual receives the **treatment** and 0 if **control**."
   ]
  },
  {
   "cell_type": "code",
   "execution_count": 33,
   "metadata": {},
   "outputs": [
    {
     "name": "stderr",
     "output_type": "stream",
     "text": [
      "/opt/conda/lib/python3.6/site-packages/ipykernel_launcher.py:1: SettingWithCopyWarning: \n",
      "A value is trying to be set on a copy of a slice from a DataFrame.\n",
      "Try using .loc[row_indexer,col_indexer] = value instead\n",
      "\n",
      "See the caveats in the documentation: http://pandas.pydata.org/pandas-docs/stable/indexing.html#indexing-view-versus-copy\n",
      "  \"\"\"Entry point for launching an IPython kernel.\n",
      "/opt/conda/lib/python3.6/site-packages/ipykernel_launcher.py:2: SettingWithCopyWarning: \n",
      "A value is trying to be set on a copy of a slice from a DataFrame.\n",
      "Try using .loc[row_indexer,col_indexer] = value instead\n",
      "\n",
      "See the caveats in the documentation: http://pandas.pydata.org/pandas-docs/stable/indexing.html#indexing-view-versus-copy\n",
      "  \n"
     ]
    },
    {
     "name": "stdout",
     "output_type": "stream",
     "text": [
      "<class 'pandas.core.frame.DataFrame'>\n",
      "Int64Index: 290584 entries, 0 to 294477\n",
      "Data columns (total 7 columns):\n",
      "user_id         290584 non-null int64\n",
      "timestamp       290584 non-null object\n",
      "group           290584 non-null object\n",
      "landing_page    290584 non-null object\n",
      "converted       290584 non-null int64\n",
      "intercept       290584 non-null int64\n",
      "ab_page         290584 non-null uint8\n",
      "dtypes: int64(3), object(3), uint8(1)\n",
      "memory usage: 15.8+ MB\n"
     ]
    }
   ],
   "source": [
    "df2['intercept'] = 1\n",
    "df2['ab_page'] = pd.get_dummies(df['group'])['treatment']\n",
    "df2.info()"
   ]
  },
  {
   "cell_type": "markdown",
   "metadata": {},
   "source": [
    "c. Use **statsmodels** to instantiate your regression model on the two columns you created in part b., then fit the model using the two columns you created in part **b.** to predict whether or not an individual converts. "
   ]
  },
  {
   "cell_type": "code",
   "execution_count": 34,
   "metadata": {},
   "outputs": [
    {
     "name": "stdout",
     "output_type": "stream",
     "text": [
      "Optimization terminated successfully.\n",
      "         Current function value: 0.366118\n",
      "         Iterations 6\n"
     ]
    },
    {
     "data": {
      "text/html": [
       "<table class=\"simpletable\">\n",
       "<caption>Logit Regression Results</caption>\n",
       "<tr>\n",
       "  <th>Dep. Variable:</th>     <td>converted</td>    <th>  No. Observations:  </th>   <td>290584</td>   \n",
       "</tr>\n",
       "<tr>\n",
       "  <th>Model:</th>               <td>Logit</td>      <th>  Df Residuals:      </th>   <td>290582</td>   \n",
       "</tr>\n",
       "<tr>\n",
       "  <th>Method:</th>               <td>MLE</td>       <th>  Df Model:          </th>   <td>     1</td>   \n",
       "</tr>\n",
       "<tr>\n",
       "  <th>Date:</th>          <td>Sun, 05 Jul 2020</td> <th>  Pseudo R-squ.:     </th>  <td>8.077e-06</td> \n",
       "</tr>\n",
       "<tr>\n",
       "  <th>Time:</th>              <td>06:32:11</td>     <th>  Log-Likelihood:    </th> <td>-1.0639e+05</td>\n",
       "</tr>\n",
       "<tr>\n",
       "  <th>converged:</th>           <td>True</td>       <th>  LL-Null:           </th> <td>-1.0639e+05</td>\n",
       "</tr>\n",
       "<tr>\n",
       "  <th> </th>                      <td> </td>        <th>  LLR p-value:       </th>   <td>0.1899</td>   \n",
       "</tr>\n",
       "</table>\n",
       "<table class=\"simpletable\">\n",
       "<tr>\n",
       "      <td></td>         <th>coef</th>     <th>std err</th>      <th>z</th>      <th>P>|z|</th>  <th>[0.025</th>    <th>0.975]</th>  \n",
       "</tr>\n",
       "<tr>\n",
       "  <th>intercept</th> <td>   -1.9888</td> <td>    0.008</td> <td> -246.669</td> <td> 0.000</td> <td>   -2.005</td> <td>   -1.973</td>\n",
       "</tr>\n",
       "<tr>\n",
       "  <th>ab_page</th>   <td>   -0.0150</td> <td>    0.011</td> <td>   -1.311</td> <td> 0.190</td> <td>   -0.037</td> <td>    0.007</td>\n",
       "</tr>\n",
       "</table>"
      ],
      "text/plain": [
       "<class 'statsmodels.iolib.summary.Summary'>\n",
       "\"\"\"\n",
       "                           Logit Regression Results                           \n",
       "==============================================================================\n",
       "Dep. Variable:              converted   No. Observations:               290584\n",
       "Model:                          Logit   Df Residuals:                   290582\n",
       "Method:                           MLE   Df Model:                            1\n",
       "Date:                Sun, 05 Jul 2020   Pseudo R-squ.:               8.077e-06\n",
       "Time:                        06:32:11   Log-Likelihood:            -1.0639e+05\n",
       "converged:                       True   LL-Null:                   -1.0639e+05\n",
       "                                        LLR p-value:                    0.1899\n",
       "==============================================================================\n",
       "                 coef    std err          z      P>|z|      [0.025      0.975]\n",
       "------------------------------------------------------------------------------\n",
       "intercept     -1.9888      0.008   -246.669      0.000      -2.005      -1.973\n",
       "ab_page       -0.0150      0.011     -1.311      0.190      -0.037       0.007\n",
       "==============================================================================\n",
       "\"\"\""
      ]
     },
     "execution_count": 34,
     "metadata": {},
     "output_type": "execute_result"
    }
   ],
   "source": [
    "from scipy import stats\n",
    "stats.chisqprob = lambda chisq, df: stats.chi2.sf(chisq, df)\n",
    "\n",
    "\n",
    "lrm = sm.Logit(df2['converted'],df2[['intercept','ab_page']])\n",
    "res = lrm.fit()\n",
    "res.summary()"
   ]
  },
  {
   "cell_type": "markdown",
   "metadata": {},
   "source": [
    "d. Provide the summary of your model below, and use it as necessary to answer the following questions."
   ]
  },
  {
   "cell_type": "code",
   "execution_count": 35,
   "metadata": {},
   "outputs": [
    {
     "data": {
      "text/plain": [
       "intercept    0.136863\n",
       "ab_page      0.985123\n",
       "dtype: float64"
      ]
     },
     "execution_count": 35,
     "metadata": {},
     "output_type": "execute_result"
    }
   ],
   "source": [
    "np.exp(res.params)\n"
   ]
  },
  {
   "cell_type": "code",
   "execution_count": 36,
   "metadata": {},
   "outputs": [
    {
     "data": {
      "text/plain": [
       "intercept    7.306593\n",
       "ab_page      1.015102\n",
       "dtype: float64"
      ]
     },
     "execution_count": 36,
     "metadata": {},
     "output_type": "execute_result"
    }
   ],
   "source": [
    "1/np.exp(res.params)"
   ]
  },
  {
   "cell_type": "markdown",
   "metadata": {},
   "source": [
    "**This means that the we are 1.015 times less likely to convert if we land on the new page, holding all else**"
   ]
  },
  {
   "cell_type": "markdown",
   "metadata": {},
   "source": [
    "e. What is the p-value associated with **ab_page**? Why does it differ from the value you found in **Part II**?<br><br>  **Hint**: What are the null and alternative hypotheses associated with your regression model, and how do they compare to the null and alternative hypotheses in **Part II**?"
   ]
  },
  {
   "cell_type": "markdown",
   "metadata": {},
   "source": [
    "**the p-value here is calculated as 0.190, and it differs form the one in part II because in regression we are testing to check whether the means are equal(Ho) or not(H1)**"
   ]
  },
  {
   "cell_type": "markdown",
   "metadata": {},
   "source": [
    "f. Now, you are considering other things that might influence whether or not an individual converts.  Discuss why it is a good idea to consider other factors to add into your regression model.  Are there any disadvantages to adding additional terms into your regression model?"
   ]
  },
  {
   "cell_type": "markdown",
   "metadata": {},
   "source": [
    "**Its really hard to predict conversion just based on the landing page, as it could be subject to change aversion and the novelty effect. There are some disadvantages that may arise from adding additional predictor varibles, as they may be correlated, and could lead to false conclusions**"
   ]
  },
  {
   "cell_type": "markdown",
   "metadata": {},
   "source": [
    "g. Now along with testing if the conversion rate changes for different pages, also add an effect based on which country a user lives in. You will need to read in the **countries.csv** dataset and merge together your datasets on the appropriate rows.  [Here](https://pandas.pydata.org/pandas-docs/stable/generated/pandas.DataFrame.join.html) are the docs for joining tables. \n",
    "\n",
    "Does it appear that country had an impact on conversion?  Don't forget to create dummy variables for these country columns - **Hint: You will need two columns for the three dummy variables.** Provide the statistical output as well as a written response to answer this question."
   ]
  },
  {
   "cell_type": "code",
   "execution_count": 46,
   "metadata": {},
   "outputs": [
    {
     "data": {
      "text/plain": [
       "array(['UK', 'US', 'CA'], dtype=object)"
      ]
     },
     "execution_count": 46,
     "metadata": {},
     "output_type": "execute_result"
    }
   ],
   "source": [
    "countries = pd.read_csv('countries.csv')\n",
    "countries['country'].unique()"
   ]
  },
  {
   "cell_type": "code",
   "execution_count": 47,
   "metadata": {},
   "outputs": [
    {
     "data": {
      "text/html": [
       "<div>\n",
       "<style scoped>\n",
       "    .dataframe tbody tr th:only-of-type {\n",
       "        vertical-align: middle;\n",
       "    }\n",
       "\n",
       "    .dataframe tbody tr th {\n",
       "        vertical-align: top;\n",
       "    }\n",
       "\n",
       "    .dataframe thead th {\n",
       "        text-align: right;\n",
       "    }\n",
       "</style>\n",
       "<table border=\"1\" class=\"dataframe\">\n",
       "  <thead>\n",
       "    <tr style=\"text-align: right;\">\n",
       "      <th></th>\n",
       "      <th>user_id</th>\n",
       "      <th>timestamp</th>\n",
       "      <th>group</th>\n",
       "      <th>landing_page</th>\n",
       "      <th>converted</th>\n",
       "      <th>intercept</th>\n",
       "      <th>ab_page</th>\n",
       "      <th>country</th>\n",
       "    </tr>\n",
       "  </thead>\n",
       "  <tbody>\n",
       "    <tr>\n",
       "      <th>0</th>\n",
       "      <td>851104</td>\n",
       "      <td>2017-01-21 22:11:48.556739</td>\n",
       "      <td>control</td>\n",
       "      <td>old_page</td>\n",
       "      <td>0</td>\n",
       "      <td>1</td>\n",
       "      <td>0</td>\n",
       "      <td>US</td>\n",
       "    </tr>\n",
       "    <tr>\n",
       "      <th>1</th>\n",
       "      <td>804228</td>\n",
       "      <td>2017-01-12 08:01:45.159739</td>\n",
       "      <td>control</td>\n",
       "      <td>old_page</td>\n",
       "      <td>0</td>\n",
       "      <td>1</td>\n",
       "      <td>0</td>\n",
       "      <td>US</td>\n",
       "    </tr>\n",
       "    <tr>\n",
       "      <th>2</th>\n",
       "      <td>661590</td>\n",
       "      <td>2017-01-11 16:55:06.154213</td>\n",
       "      <td>treatment</td>\n",
       "      <td>new_page</td>\n",
       "      <td>0</td>\n",
       "      <td>1</td>\n",
       "      <td>1</td>\n",
       "      <td>US</td>\n",
       "    </tr>\n",
       "    <tr>\n",
       "      <th>3</th>\n",
       "      <td>853541</td>\n",
       "      <td>2017-01-08 18:28:03.143765</td>\n",
       "      <td>treatment</td>\n",
       "      <td>new_page</td>\n",
       "      <td>0</td>\n",
       "      <td>1</td>\n",
       "      <td>1</td>\n",
       "      <td>US</td>\n",
       "    </tr>\n",
       "    <tr>\n",
       "      <th>4</th>\n",
       "      <td>864975</td>\n",
       "      <td>2017-01-21 01:52:26.210827</td>\n",
       "      <td>control</td>\n",
       "      <td>old_page</td>\n",
       "      <td>1</td>\n",
       "      <td>1</td>\n",
       "      <td>0</td>\n",
       "      <td>US</td>\n",
       "    </tr>\n",
       "  </tbody>\n",
       "</table>\n",
       "</div>"
      ],
      "text/plain": [
       "   user_id                   timestamp      group landing_page  converted  \\\n",
       "0   851104  2017-01-21 22:11:48.556739    control     old_page          0   \n",
       "1   804228  2017-01-12 08:01:45.159739    control     old_page          0   \n",
       "2   661590  2017-01-11 16:55:06.154213  treatment     new_page          0   \n",
       "3   853541  2017-01-08 18:28:03.143765  treatment     new_page          0   \n",
       "4   864975  2017-01-21 01:52:26.210827    control     old_page          1   \n",
       "\n",
       "   intercept  ab_page country  \n",
       "0          1        0      US  \n",
       "1          1        0      US  \n",
       "2          1        1      US  \n",
       "3          1        1      US  \n",
       "4          1        0      US  "
      ]
     },
     "execution_count": 47,
     "metadata": {},
     "output_type": "execute_result"
    }
   ],
   "source": [
    "df3 = df2.join(countries.set_index('user_id'), on='user_id', how='inner')\n",
    "df3.head()"
   ]
  },
  {
   "cell_type": "code",
   "execution_count": 48,
   "metadata": {},
   "outputs": [
    {
     "data": {
      "text/html": [
       "<div>\n",
       "<style scoped>\n",
       "    .dataframe tbody tr th:only-of-type {\n",
       "        vertical-align: middle;\n",
       "    }\n",
       "\n",
       "    .dataframe tbody tr th {\n",
       "        vertical-align: top;\n",
       "    }\n",
       "\n",
       "    .dataframe thead th {\n",
       "        text-align: right;\n",
       "    }\n",
       "</style>\n",
       "<table border=\"1\" class=\"dataframe\">\n",
       "  <thead>\n",
       "    <tr style=\"text-align: right;\">\n",
       "      <th></th>\n",
       "      <th>user_id</th>\n",
       "      <th>timestamp</th>\n",
       "      <th>group</th>\n",
       "      <th>landing_page</th>\n",
       "      <th>converted</th>\n",
       "      <th>intercept</th>\n",
       "      <th>ab_page</th>\n",
       "      <th>country</th>\n",
       "      <th>CA</th>\n",
       "      <th>UK</th>\n",
       "      <th>US</th>\n",
       "    </tr>\n",
       "  </thead>\n",
       "  <tbody>\n",
       "    <tr>\n",
       "      <th>0</th>\n",
       "      <td>851104</td>\n",
       "      <td>2017-01-21 22:11:48.556739</td>\n",
       "      <td>control</td>\n",
       "      <td>old_page</td>\n",
       "      <td>0</td>\n",
       "      <td>1</td>\n",
       "      <td>0</td>\n",
       "      <td>US</td>\n",
       "      <td>0</td>\n",
       "      <td>0</td>\n",
       "      <td>1</td>\n",
       "    </tr>\n",
       "    <tr>\n",
       "      <th>1</th>\n",
       "      <td>804228</td>\n",
       "      <td>2017-01-12 08:01:45.159739</td>\n",
       "      <td>control</td>\n",
       "      <td>old_page</td>\n",
       "      <td>0</td>\n",
       "      <td>1</td>\n",
       "      <td>0</td>\n",
       "      <td>US</td>\n",
       "      <td>0</td>\n",
       "      <td>0</td>\n",
       "      <td>1</td>\n",
       "    </tr>\n",
       "    <tr>\n",
       "      <th>2</th>\n",
       "      <td>661590</td>\n",
       "      <td>2017-01-11 16:55:06.154213</td>\n",
       "      <td>treatment</td>\n",
       "      <td>new_page</td>\n",
       "      <td>0</td>\n",
       "      <td>1</td>\n",
       "      <td>1</td>\n",
       "      <td>US</td>\n",
       "      <td>0</td>\n",
       "      <td>0</td>\n",
       "      <td>1</td>\n",
       "    </tr>\n",
       "    <tr>\n",
       "      <th>3</th>\n",
       "      <td>853541</td>\n",
       "      <td>2017-01-08 18:28:03.143765</td>\n",
       "      <td>treatment</td>\n",
       "      <td>new_page</td>\n",
       "      <td>0</td>\n",
       "      <td>1</td>\n",
       "      <td>1</td>\n",
       "      <td>US</td>\n",
       "      <td>0</td>\n",
       "      <td>0</td>\n",
       "      <td>1</td>\n",
       "    </tr>\n",
       "    <tr>\n",
       "      <th>4</th>\n",
       "      <td>864975</td>\n",
       "      <td>2017-01-21 01:52:26.210827</td>\n",
       "      <td>control</td>\n",
       "      <td>old_page</td>\n",
       "      <td>1</td>\n",
       "      <td>1</td>\n",
       "      <td>0</td>\n",
       "      <td>US</td>\n",
       "      <td>0</td>\n",
       "      <td>0</td>\n",
       "      <td>1</td>\n",
       "    </tr>\n",
       "  </tbody>\n",
       "</table>\n",
       "</div>"
      ],
      "text/plain": [
       "   user_id                   timestamp      group landing_page  converted  \\\n",
       "0   851104  2017-01-21 22:11:48.556739    control     old_page          0   \n",
       "1   804228  2017-01-12 08:01:45.159739    control     old_page          0   \n",
       "2   661590  2017-01-11 16:55:06.154213  treatment     new_page          0   \n",
       "3   853541  2017-01-08 18:28:03.143765  treatment     new_page          0   \n",
       "4   864975  2017-01-21 01:52:26.210827    control     old_page          1   \n",
       "\n",
       "   intercept  ab_page country  CA  UK  US  \n",
       "0          1        0      US   0   0   1  \n",
       "1          1        0      US   0   0   1  \n",
       "2          1        1      US   0   0   1  \n",
       "3          1        1      US   0   0   1  \n",
       "4          1        0      US   0   0   1  "
      ]
     },
     "execution_count": 48,
     "metadata": {},
     "output_type": "execute_result"
    }
   ],
   "source": [
    "df3[['CA','UK','US']] = pd.get_dummies(df3['country'])\n",
    "df3.head()"
   ]
  },
  {
   "cell_type": "code",
   "execution_count": 49,
   "metadata": {},
   "outputs": [
    {
     "data": {
      "text/plain": [
       "US    203619\n",
       "UK     72466\n",
       "CA     14499\n",
       "Name: country, dtype: int64"
      ]
     },
     "execution_count": 49,
     "metadata": {},
     "output_type": "execute_result"
    }
   ],
   "source": [
    "df3['country'].value_counts()"
   ]
  },
  {
   "cell_type": "code",
   "execution_count": 50,
   "metadata": {},
   "outputs": [
    {
     "data": {
      "text/html": [
       "<div>\n",
       "<style scoped>\n",
       "    .dataframe tbody tr th:only-of-type {\n",
       "        vertical-align: middle;\n",
       "    }\n",
       "\n",
       "    .dataframe tbody tr th {\n",
       "        vertical-align: top;\n",
       "    }\n",
       "\n",
       "    .dataframe thead th {\n",
       "        text-align: right;\n",
       "    }\n",
       "</style>\n",
       "<table border=\"1\" class=\"dataframe\">\n",
       "  <thead>\n",
       "    <tr style=\"text-align: right;\">\n",
       "      <th></th>\n",
       "      <th>user_id</th>\n",
       "      <th>timestamp</th>\n",
       "      <th>group</th>\n",
       "      <th>landing_page</th>\n",
       "      <th>converted</th>\n",
       "      <th>intercept</th>\n",
       "      <th>ab_page</th>\n",
       "      <th>CA</th>\n",
       "      <th>UK</th>\n",
       "    </tr>\n",
       "  </thead>\n",
       "  <tbody>\n",
       "    <tr>\n",
       "      <th>0</th>\n",
       "      <td>851104</td>\n",
       "      <td>2017-01-21 22:11:48.556739</td>\n",
       "      <td>control</td>\n",
       "      <td>old_page</td>\n",
       "      <td>0</td>\n",
       "      <td>1</td>\n",
       "      <td>0</td>\n",
       "      <td>0</td>\n",
       "      <td>0</td>\n",
       "    </tr>\n",
       "    <tr>\n",
       "      <th>1</th>\n",
       "      <td>804228</td>\n",
       "      <td>2017-01-12 08:01:45.159739</td>\n",
       "      <td>control</td>\n",
       "      <td>old_page</td>\n",
       "      <td>0</td>\n",
       "      <td>1</td>\n",
       "      <td>0</td>\n",
       "      <td>0</td>\n",
       "      <td>0</td>\n",
       "    </tr>\n",
       "    <tr>\n",
       "      <th>2</th>\n",
       "      <td>661590</td>\n",
       "      <td>2017-01-11 16:55:06.154213</td>\n",
       "      <td>treatment</td>\n",
       "      <td>new_page</td>\n",
       "      <td>0</td>\n",
       "      <td>1</td>\n",
       "      <td>1</td>\n",
       "      <td>0</td>\n",
       "      <td>0</td>\n",
       "    </tr>\n",
       "    <tr>\n",
       "      <th>3</th>\n",
       "      <td>853541</td>\n",
       "      <td>2017-01-08 18:28:03.143765</td>\n",
       "      <td>treatment</td>\n",
       "      <td>new_page</td>\n",
       "      <td>0</td>\n",
       "      <td>1</td>\n",
       "      <td>1</td>\n",
       "      <td>0</td>\n",
       "      <td>0</td>\n",
       "    </tr>\n",
       "    <tr>\n",
       "      <th>4</th>\n",
       "      <td>864975</td>\n",
       "      <td>2017-01-21 01:52:26.210827</td>\n",
       "      <td>control</td>\n",
       "      <td>old_page</td>\n",
       "      <td>1</td>\n",
       "      <td>1</td>\n",
       "      <td>0</td>\n",
       "      <td>0</td>\n",
       "      <td>0</td>\n",
       "    </tr>\n",
       "  </tbody>\n",
       "</table>\n",
       "</div>"
      ],
      "text/plain": [
       "   user_id                   timestamp      group landing_page  converted  \\\n",
       "0   851104  2017-01-21 22:11:48.556739    control     old_page          0   \n",
       "1   804228  2017-01-12 08:01:45.159739    control     old_page          0   \n",
       "2   661590  2017-01-11 16:55:06.154213  treatment     new_page          0   \n",
       "3   853541  2017-01-08 18:28:03.143765  treatment     new_page          0   \n",
       "4   864975  2017-01-21 01:52:26.210827    control     old_page          1   \n",
       "\n",
       "   intercept  ab_page  CA  UK  \n",
       "0          1        0   0   0  \n",
       "1          1        0   0   0  \n",
       "2          1        1   0   0  \n",
       "3          1        1   0   0  \n",
       "4          1        0   0   0  "
      ]
     },
     "execution_count": 50,
     "metadata": {},
     "output_type": "execute_result"
    }
   ],
   "source": [
    "df3.drop(['country','US'],axis=1,inplace=True)\n",
    "df3.head()"
   ]
  },
  {
   "cell_type": "markdown",
   "metadata": {},
   "source": [
    "**So here we are running the Logisitic regression to see the impact countries on conversion rates**"
   ]
  },
  {
   "cell_type": "code",
   "execution_count": 51,
   "metadata": {},
   "outputs": [
    {
     "name": "stdout",
     "output_type": "stream",
     "text": [
      "Optimization terminated successfully.\n",
      "         Current function value: 0.366113\n",
      "         Iterations 6\n"
     ]
    },
    {
     "data": {
      "text/html": [
       "<table class=\"simpletable\">\n",
       "<caption>Logit Regression Results</caption>\n",
       "<tr>\n",
       "  <th>Dep. Variable:</th>     <td>converted</td>    <th>  No. Observations:  </th>   <td>290584</td>   \n",
       "</tr>\n",
       "<tr>\n",
       "  <th>Model:</th>               <td>Logit</td>      <th>  Df Residuals:      </th>   <td>290580</td>   \n",
       "</tr>\n",
       "<tr>\n",
       "  <th>Method:</th>               <td>MLE</td>       <th>  Df Model:          </th>   <td>     3</td>   \n",
       "</tr>\n",
       "<tr>\n",
       "  <th>Date:</th>          <td>Sun, 05 Jul 2020</td> <th>  Pseudo R-squ.:     </th>  <td>2.323e-05</td> \n",
       "</tr>\n",
       "<tr>\n",
       "  <th>Time:</th>              <td>06:47:36</td>     <th>  Log-Likelihood:    </th> <td>-1.0639e+05</td>\n",
       "</tr>\n",
       "<tr>\n",
       "  <th>converged:</th>           <td>True</td>       <th>  LL-Null:           </th> <td>-1.0639e+05</td>\n",
       "</tr>\n",
       "<tr>\n",
       "  <th> </th>                      <td> </td>        <th>  LLR p-value:       </th>   <td>0.1760</td>   \n",
       "</tr>\n",
       "</table>\n",
       "<table class=\"simpletable\">\n",
       "<tr>\n",
       "      <td></td>         <th>coef</th>     <th>std err</th>      <th>z</th>      <th>P>|z|</th>  <th>[0.025</th>    <th>0.975]</th>  \n",
       "</tr>\n",
       "<tr>\n",
       "  <th>intercept</th> <td>   -1.9893</td> <td>    0.009</td> <td> -223.763</td> <td> 0.000</td> <td>   -2.007</td> <td>   -1.972</td>\n",
       "</tr>\n",
       "<tr>\n",
       "  <th>ab_page</th>   <td>   -0.0149</td> <td>    0.011</td> <td>   -1.307</td> <td> 0.191</td> <td>   -0.037</td> <td>    0.007</td>\n",
       "</tr>\n",
       "<tr>\n",
       "  <th>CA</th>        <td>   -0.0408</td> <td>    0.027</td> <td>   -1.516</td> <td> 0.130</td> <td>   -0.093</td> <td>    0.012</td>\n",
       "</tr>\n",
       "<tr>\n",
       "  <th>UK</th>        <td>    0.0099</td> <td>    0.013</td> <td>    0.743</td> <td> 0.457</td> <td>   -0.016</td> <td>    0.036</td>\n",
       "</tr>\n",
       "</table>"
      ],
      "text/plain": [
       "<class 'statsmodels.iolib.summary.Summary'>\n",
       "\"\"\"\n",
       "                           Logit Regression Results                           \n",
       "==============================================================================\n",
       "Dep. Variable:              converted   No. Observations:               290584\n",
       "Model:                          Logit   Df Residuals:                   290580\n",
       "Method:                           MLE   Df Model:                            3\n",
       "Date:                Sun, 05 Jul 2020   Pseudo R-squ.:               2.323e-05\n",
       "Time:                        06:47:36   Log-Likelihood:            -1.0639e+05\n",
       "converged:                       True   LL-Null:                   -1.0639e+05\n",
       "                                        LLR p-value:                    0.1760\n",
       "==============================================================================\n",
       "                 coef    std err          z      P>|z|      [0.025      0.975]\n",
       "------------------------------------------------------------------------------\n",
       "intercept     -1.9893      0.009   -223.763      0.000      -2.007      -1.972\n",
       "ab_page       -0.0149      0.011     -1.307      0.191      -0.037       0.007\n",
       "CA            -0.0408      0.027     -1.516      0.130      -0.093       0.012\n",
       "UK             0.0099      0.013      0.743      0.457      -0.016       0.036\n",
       "==============================================================================\n",
       "\"\"\""
      ]
     },
     "execution_count": 51,
     "metadata": {},
     "output_type": "execute_result"
    }
   ],
   "source": [
    "df3['intercept'] = 1\n",
    "lrm = sm.Logit(df3['converted'],df3[['intercept','ab_page','CA','UK']])\n",
    "res = lrm.fit()\n",
    "res.summary()"
   ]
  },
  {
   "cell_type": "code",
   "execution_count": 52,
   "metadata": {},
   "outputs": [
    {
     "data": {
      "text/plain": [
       "intercept    0.136795\n",
       "ab_page      0.985168\n",
       "CA           0.960062\n",
       "UK           1.009932\n",
       "dtype: float64"
      ]
     },
     "execution_count": 52,
     "metadata": {},
     "output_type": "execute_result"
    }
   ],
   "source": [
    "np.exp(res.params)"
   ]
  },
  {
   "cell_type": "code",
   "execution_count": 53,
   "metadata": {},
   "outputs": [
    {
     "data": {
      "text/plain": [
       "intercept    7.310207\n",
       "ab_page      1.015056\n",
       "CA           1.041599\n",
       "UK           0.990165\n",
       "dtype: float64"
      ]
     },
     "execution_count": 53,
     "metadata": {},
     "output_type": "execute_result"
    }
   ],
   "source": [
    "1/np.exp(res.params)"
   ]
  },
  {
   "cell_type": "markdown",
   "metadata": {},
   "source": [
    "**This interprets to the following:**\n"
   ]
  },
  {
   "cell_type": "markdown",
   "metadata": {},
   "source": [
    "**Users who visit the site from Canada are 1.04 less likley to convert than users from USA**"
   ]
  },
  {
   "cell_type": "markdown",
   "metadata": {},
   "source": [
    "**Users who visit the site from UK are 0.99 more likley to convert than users from USA**"
   ]
  },
  {
   "cell_type": "markdown",
   "metadata": {},
   "source": [
    "**And since the p-valus of the variables are all more than 0.05, they do not have a statistical significant realtionship with conversion**"
   ]
  },
  {
   "cell_type": "markdown",
   "metadata": {},
   "source": [
    "h. Though you have now looked at the individual factors of country and page on conversion, we would now like to look at an interaction between page and country to see if there significant effects on conversion.  Create the necessary additional columns, and fit the new model.  \n",
    "\n",
    "Provide the summary results, and your conclusions based on the results."
   ]
  },
  {
   "cell_type": "code",
   "execution_count": 54,
   "metadata": {},
   "outputs": [
    {
     "data": {
      "text/html": [
       "<div>\n",
       "<style scoped>\n",
       "    .dataframe tbody tr th:only-of-type {\n",
       "        vertical-align: middle;\n",
       "    }\n",
       "\n",
       "    .dataframe tbody tr th {\n",
       "        vertical-align: top;\n",
       "    }\n",
       "\n",
       "    .dataframe thead th {\n",
       "        text-align: right;\n",
       "    }\n",
       "</style>\n",
       "<table border=\"1\" class=\"dataframe\">\n",
       "  <thead>\n",
       "    <tr style=\"text-align: right;\">\n",
       "      <th></th>\n",
       "      <th>user_id</th>\n",
       "      <th>timestamp</th>\n",
       "      <th>group</th>\n",
       "      <th>landing_page</th>\n",
       "      <th>converted</th>\n",
       "      <th>intercept</th>\n",
       "      <th>ab_page</th>\n",
       "      <th>CA</th>\n",
       "      <th>UK</th>\n",
       "      <th>ab_CA</th>\n",
       "      <th>ab_UK</th>\n",
       "    </tr>\n",
       "  </thead>\n",
       "  <tbody>\n",
       "    <tr>\n",
       "      <th>0</th>\n",
       "      <td>851104</td>\n",
       "      <td>2017-01-21 22:11:48.556739</td>\n",
       "      <td>control</td>\n",
       "      <td>old_page</td>\n",
       "      <td>0</td>\n",
       "      <td>1</td>\n",
       "      <td>0</td>\n",
       "      <td>0</td>\n",
       "      <td>0</td>\n",
       "      <td>0</td>\n",
       "      <td>0</td>\n",
       "    </tr>\n",
       "    <tr>\n",
       "      <th>1</th>\n",
       "      <td>804228</td>\n",
       "      <td>2017-01-12 08:01:45.159739</td>\n",
       "      <td>control</td>\n",
       "      <td>old_page</td>\n",
       "      <td>0</td>\n",
       "      <td>1</td>\n",
       "      <td>0</td>\n",
       "      <td>0</td>\n",
       "      <td>0</td>\n",
       "      <td>0</td>\n",
       "      <td>0</td>\n",
       "    </tr>\n",
       "    <tr>\n",
       "      <th>2</th>\n",
       "      <td>661590</td>\n",
       "      <td>2017-01-11 16:55:06.154213</td>\n",
       "      <td>treatment</td>\n",
       "      <td>new_page</td>\n",
       "      <td>0</td>\n",
       "      <td>1</td>\n",
       "      <td>1</td>\n",
       "      <td>0</td>\n",
       "      <td>0</td>\n",
       "      <td>0</td>\n",
       "      <td>0</td>\n",
       "    </tr>\n",
       "    <tr>\n",
       "      <th>3</th>\n",
       "      <td>853541</td>\n",
       "      <td>2017-01-08 18:28:03.143765</td>\n",
       "      <td>treatment</td>\n",
       "      <td>new_page</td>\n",
       "      <td>0</td>\n",
       "      <td>1</td>\n",
       "      <td>1</td>\n",
       "      <td>0</td>\n",
       "      <td>0</td>\n",
       "      <td>0</td>\n",
       "      <td>0</td>\n",
       "    </tr>\n",
       "    <tr>\n",
       "      <th>4</th>\n",
       "      <td>864975</td>\n",
       "      <td>2017-01-21 01:52:26.210827</td>\n",
       "      <td>control</td>\n",
       "      <td>old_page</td>\n",
       "      <td>1</td>\n",
       "      <td>1</td>\n",
       "      <td>0</td>\n",
       "      <td>0</td>\n",
       "      <td>0</td>\n",
       "      <td>0</td>\n",
       "      <td>0</td>\n",
       "    </tr>\n",
       "  </tbody>\n",
       "</table>\n",
       "</div>"
      ],
      "text/plain": [
       "   user_id                   timestamp      group landing_page  converted  \\\n",
       "0   851104  2017-01-21 22:11:48.556739    control     old_page          0   \n",
       "1   804228  2017-01-12 08:01:45.159739    control     old_page          0   \n",
       "2   661590  2017-01-11 16:55:06.154213  treatment     new_page          0   \n",
       "3   853541  2017-01-08 18:28:03.143765  treatment     new_page          0   \n",
       "4   864975  2017-01-21 01:52:26.210827    control     old_page          1   \n",
       "\n",
       "   intercept  ab_page  CA  UK  ab_CA  ab_UK  \n",
       "0          1        0   0   0      0      0  \n",
       "1          1        0   0   0      0      0  \n",
       "2          1        1   0   0      0      0  \n",
       "3          1        1   0   0      0      0  \n",
       "4          1        0   0   0      0      0  "
      ]
     },
     "execution_count": 54,
     "metadata": {},
     "output_type": "execute_result"
    }
   ],
   "source": [
    "df3['ab_CA'] = df3['CA'] * df3['ab_page']\n",
    "df3['ab_UK'] = df3['UK'] * df3['ab_page']\n",
    "df3.head()"
   ]
  },
  {
   "cell_type": "code",
   "execution_count": 55,
   "metadata": {},
   "outputs": [
    {
     "name": "stdout",
     "output_type": "stream",
     "text": [
      "Optimization terminated successfully.\n",
      "         Current function value: 0.366109\n",
      "         Iterations 6\n"
     ]
    },
    {
     "data": {
      "text/html": [
       "<table class=\"simpletable\">\n",
       "<caption>Logit Regression Results</caption>\n",
       "<tr>\n",
       "  <th>Dep. Variable:</th>     <td>converted</td>    <th>  No. Observations:  </th>   <td>290584</td>   \n",
       "</tr>\n",
       "<tr>\n",
       "  <th>Model:</th>               <td>Logit</td>      <th>  Df Residuals:      </th>   <td>290578</td>   \n",
       "</tr>\n",
       "<tr>\n",
       "  <th>Method:</th>               <td>MLE</td>       <th>  Df Model:          </th>   <td>     5</td>   \n",
       "</tr>\n",
       "<tr>\n",
       "  <th>Date:</th>          <td>Sun, 05 Jul 2020</td> <th>  Pseudo R-squ.:     </th>  <td>3.482e-05</td> \n",
       "</tr>\n",
       "<tr>\n",
       "  <th>Time:</th>              <td>06:49:25</td>     <th>  Log-Likelihood:    </th> <td>-1.0639e+05</td>\n",
       "</tr>\n",
       "<tr>\n",
       "  <th>converged:</th>           <td>True</td>       <th>  LL-Null:           </th> <td>-1.0639e+05</td>\n",
       "</tr>\n",
       "<tr>\n",
       "  <th> </th>                      <td> </td>        <th>  LLR p-value:       </th>   <td>0.1920</td>   \n",
       "</tr>\n",
       "</table>\n",
       "<table class=\"simpletable\">\n",
       "<tr>\n",
       "      <td></td>         <th>coef</th>     <th>std err</th>      <th>z</th>      <th>P>|z|</th>  <th>[0.025</th>    <th>0.975]</th>  \n",
       "</tr>\n",
       "<tr>\n",
       "  <th>intercept</th> <td>   -1.9865</td> <td>    0.010</td> <td> -206.344</td> <td> 0.000</td> <td>   -2.005</td> <td>   -1.968</td>\n",
       "</tr>\n",
       "<tr>\n",
       "  <th>ab_page</th>   <td>   -0.0206</td> <td>    0.014</td> <td>   -1.505</td> <td> 0.132</td> <td>   -0.047</td> <td>    0.006</td>\n",
       "</tr>\n",
       "<tr>\n",
       "  <th>CA</th>        <td>   -0.0175</td> <td>    0.038</td> <td>   -0.465</td> <td> 0.642</td> <td>   -0.091</td> <td>    0.056</td>\n",
       "</tr>\n",
       "<tr>\n",
       "  <th>UK</th>        <td>   -0.0057</td> <td>    0.019</td> <td>   -0.306</td> <td> 0.760</td> <td>   -0.043</td> <td>    0.031</td>\n",
       "</tr>\n",
       "<tr>\n",
       "  <th>ab_CA</th>     <td>   -0.0469</td> <td>    0.054</td> <td>   -0.872</td> <td> 0.383</td> <td>   -0.152</td> <td>    0.059</td>\n",
       "</tr>\n",
       "<tr>\n",
       "  <th>ab_UK</th>     <td>    0.0314</td> <td>    0.027</td> <td>    1.181</td> <td> 0.238</td> <td>   -0.021</td> <td>    0.084</td>\n",
       "</tr>\n",
       "</table>"
      ],
      "text/plain": [
       "<class 'statsmodels.iolib.summary.Summary'>\n",
       "\"\"\"\n",
       "                           Logit Regression Results                           \n",
       "==============================================================================\n",
       "Dep. Variable:              converted   No. Observations:               290584\n",
       "Model:                          Logit   Df Residuals:                   290578\n",
       "Method:                           MLE   Df Model:                            5\n",
       "Date:                Sun, 05 Jul 2020   Pseudo R-squ.:               3.482e-05\n",
       "Time:                        06:49:25   Log-Likelihood:            -1.0639e+05\n",
       "converged:                       True   LL-Null:                   -1.0639e+05\n",
       "                                        LLR p-value:                    0.1920\n",
       "==============================================================================\n",
       "                 coef    std err          z      P>|z|      [0.025      0.975]\n",
       "------------------------------------------------------------------------------\n",
       "intercept     -1.9865      0.010   -206.344      0.000      -2.005      -1.968\n",
       "ab_page       -0.0206      0.014     -1.505      0.132      -0.047       0.006\n",
       "CA            -0.0175      0.038     -0.465      0.642      -0.091       0.056\n",
       "UK            -0.0057      0.019     -0.306      0.760      -0.043       0.031\n",
       "ab_CA         -0.0469      0.054     -0.872      0.383      -0.152       0.059\n",
       "ab_UK          0.0314      0.027      1.181      0.238      -0.021       0.084\n",
       "==============================================================================\n",
       "\"\"\""
      ]
     },
     "execution_count": 55,
     "metadata": {},
     "output_type": "execute_result"
    }
   ],
   "source": [
    "lrm = sm.Logit(df3['converted'],df3[['intercept','ab_page','CA','UK','ab_CA','ab_UK']])\n",
    "res = lrm.fit()\n",
    "res.summary()"
   ]
  },
  {
   "cell_type": "markdown",
   "metadata": {},
   "source": [
    "**Clearly since the p-valus of the variables are all more than 0.05, they do not have a statistical significant realtionship with conversion**"
   ]
  },
  {
   "cell_type": "markdown",
   "metadata": {},
   "source": [
    "**In practical terms, from the data we can clearly see that there is no significant difference between the conversion rates of the 2 pages**"
   ]
  },
  {
   "cell_type": "markdown",
   "metadata": {},
   "source": [
    "<a id='conclusions'></a>\n",
    "## Finishing Up\n",
    "\n",
    "> Congratulations!  You have reached the end of the A/B Test Results project!  You should be very proud of all you have accomplished!\n",
    "\n",
    "> **Tip**: Once you are satisfied with your work here, check over your report to make sure that it is satisfies all the areas of the rubric (found on the project submission page at the end of the lesson). You should also probably remove all of the \"Tips\" like this one so that the presentation is as polished as possible.\n",
    "\n",
    "\n",
    "## Directions to Submit\n",
    "\n",
    "> Before you submit your project, you need to create a .html or .pdf version of this notebook in the workspace here. To do that, run the code cell below. If it worked correctly, you should get a return code of 0, and you should see the generated .html file in the workspace directory (click on the orange Jupyter icon in the upper left).\n",
    "\n",
    "> Alternatively, you can download this report as .html via the **File** > **Download as** submenu, and then manually upload it into the workspace directory by clicking on the orange Jupyter icon in the upper left, then using the Upload button.\n",
    "\n",
    "> Once you've done this, you can submit your project by clicking on the \"Submit Project\" button in the lower right here. This will create and submit a zip file with this .ipynb doc and the .html or .pdf version you created. Congratulations!"
   ]
  },
  {
   "cell_type": "code",
   "execution_count": 251,
   "metadata": {},
   "outputs": [
    {
     "data": {
      "text/plain": [
       "0"
      ]
     },
     "execution_count": 251,
     "metadata": {},
     "output_type": "execute_result"
    }
   ],
   "source": [
    "from subprocess import call\n",
    "call(['python', '-m', 'nbconvert', 'Analyze_ab_test_results_notebook.ipynb'])"
   ]
  },
  {
   "cell_type": "code",
   "execution_count": null,
   "metadata": {},
   "outputs": [],
   "source": []
  }
 ],
 "metadata": {
  "kernelspec": {
   "display_name": "Python 3",
   "language": "python",
   "name": "python3"
  },
  "language_info": {
   "codemirror_mode": {
    "name": "ipython",
    "version": 3
   },
   "file_extension": ".py",
   "mimetype": "text/x-python",
   "name": "python",
   "nbconvert_exporter": "python",
   "pygments_lexer": "ipython3",
   "version": "3.6.3"
  }
 },
 "nbformat": 4,
 "nbformat_minor": 2
}
